{
 "cells": [
  {
   "cell_type": "markdown",
   "id": "f2499361",
   "metadata": {},
   "source": [
    "# Analise dos dados - Filmes e programas de TV da Netflix 2021"
   ]
  },
  {
   "cell_type": "code",
   "execution_count": 1,
   "id": "df020437",
   "metadata": {},
   "outputs": [],
   "source": [
    "# importando bibliotecas\n",
    "import pandas as pd\n",
    "import seaborn as srn\n",
    "import matplotlib.pyplot as plt\n",
    "import matplotlib as mat\n",
    "import matplotlib.pyplot as plt\n",
    "import numpy as np\n",
    "%matplotlib inline"
   ]
  },
  {
   "cell_type": "markdown",
   "id": "208990f2",
   "metadata": {},
   "source": [
    "## Lendo o arquivo CSV e conhecendo os dados"
   ]
  },
  {
   "cell_type": "code",
   "execution_count": 2,
   "id": "28a56574",
   "metadata": {},
   "outputs": [],
   "source": [
    "dataset = pd.read_csv('netflixData.csv')"
   ]
  },
  {
   "cell_type": "code",
   "execution_count": 3,
   "id": "9a7e9763",
   "metadata": {},
   "outputs": [
    {
     "data": {
      "text/html": [
       "<div>\n",
       "<style scoped>\n",
       "    .dataframe tbody tr th:only-of-type {\n",
       "        vertical-align: middle;\n",
       "    }\n",
       "\n",
       "    .dataframe tbody tr th {\n",
       "        vertical-align: top;\n",
       "    }\n",
       "\n",
       "    .dataframe thead th {\n",
       "        text-align: right;\n",
       "    }\n",
       "</style>\n",
       "<table border=\"1\" class=\"dataframe\">\n",
       "  <thead>\n",
       "    <tr style=\"text-align: right;\">\n",
       "      <th></th>\n",
       "      <th>Show Id</th>\n",
       "      <th>Title</th>\n",
       "      <th>Description</th>\n",
       "      <th>Director</th>\n",
       "      <th>Genres</th>\n",
       "      <th>Cast</th>\n",
       "      <th>Production Country</th>\n",
       "      <th>Release Date</th>\n",
       "      <th>Rating</th>\n",
       "      <th>Duration</th>\n",
       "      <th>Imdb Score</th>\n",
       "      <th>Content Type</th>\n",
       "      <th>Date Added</th>\n",
       "    </tr>\n",
       "  </thead>\n",
       "  <tbody>\n",
       "    <tr>\n",
       "      <th>0</th>\n",
       "      <td>cc1b6ed9-cf9e-4057-8303-34577fb54477</td>\n",
       "      <td>(Un)Well</td>\n",
       "      <td>This docuseries takes a deep dive into the luc...</td>\n",
       "      <td>NaN</td>\n",
       "      <td>Reality TV</td>\n",
       "      <td>NaN</td>\n",
       "      <td>United States</td>\n",
       "      <td>2020.0</td>\n",
       "      <td>TV-MA</td>\n",
       "      <td>1 Season</td>\n",
       "      <td>6.6/10</td>\n",
       "      <td>TV Show</td>\n",
       "      <td>NaN</td>\n",
       "    </tr>\n",
       "    <tr>\n",
       "      <th>1</th>\n",
       "      <td>e2ef4e91-fb25-42ab-b485-be8e3b23dedb</td>\n",
       "      <td>#Alive</td>\n",
       "      <td>As a grisly virus rampages a city, a lone man ...</td>\n",
       "      <td>Cho Il</td>\n",
       "      <td>Horror Movies, International Movies, Thrillers</td>\n",
       "      <td>Yoo Ah-in, Park Shin-hye</td>\n",
       "      <td>South Korea</td>\n",
       "      <td>2020.0</td>\n",
       "      <td>TV-MA</td>\n",
       "      <td>99 min</td>\n",
       "      <td>6.2/10</td>\n",
       "      <td>Movie</td>\n",
       "      <td>September 8, 2020</td>\n",
       "    </tr>\n",
       "    <tr>\n",
       "      <th>2</th>\n",
       "      <td>b01b73b7-81f6-47a7-86d8-acb63080d525</td>\n",
       "      <td>#AnneFrank - Parallel Stories</td>\n",
       "      <td>Through her diary, Anne Frank's story is retol...</td>\n",
       "      <td>Sabina Fedeli, Anna Migotto</td>\n",
       "      <td>Documentaries, International Movies</td>\n",
       "      <td>Helen Mirren, Gengher Gatti</td>\n",
       "      <td>Italy</td>\n",
       "      <td>2019.0</td>\n",
       "      <td>TV-14</td>\n",
       "      <td>95 min</td>\n",
       "      <td>6.4/10</td>\n",
       "      <td>Movie</td>\n",
       "      <td>July 1, 2020</td>\n",
       "    </tr>\n",
       "    <tr>\n",
       "      <th>3</th>\n",
       "      <td>b6611af0-f53c-4a08-9ffa-9716dc57eb9c</td>\n",
       "      <td>#blackAF</td>\n",
       "      <td>Kenya Barris and his family navigate relations...</td>\n",
       "      <td>NaN</td>\n",
       "      <td>TV Comedies</td>\n",
       "      <td>Kenya Barris, Rashida Jones, Iman Benson, Genn...</td>\n",
       "      <td>United States</td>\n",
       "      <td>2020.0</td>\n",
       "      <td>TV-MA</td>\n",
       "      <td>1 Season</td>\n",
       "      <td>6.6/10</td>\n",
       "      <td>TV Show</td>\n",
       "      <td>NaN</td>\n",
       "    </tr>\n",
       "    <tr>\n",
       "      <th>4</th>\n",
       "      <td>7f2d4170-bab8-4d75-adc2-197f7124c070</td>\n",
       "      <td>#cats_the_mewvie</td>\n",
       "      <td>This pawesome documentary explores how our fel...</td>\n",
       "      <td>Michael Margolis</td>\n",
       "      <td>Documentaries, International Movies</td>\n",
       "      <td>NaN</td>\n",
       "      <td>Canada</td>\n",
       "      <td>2020.0</td>\n",
       "      <td>TV-14</td>\n",
       "      <td>90 min</td>\n",
       "      <td>5.1/10</td>\n",
       "      <td>Movie</td>\n",
       "      <td>February 5, 2020</td>\n",
       "    </tr>\n",
       "  </tbody>\n",
       "</table>\n",
       "</div>"
      ],
      "text/plain": [
       "                                Show Id                          Title  \\\n",
       "0  cc1b6ed9-cf9e-4057-8303-34577fb54477                       (Un)Well   \n",
       "1  e2ef4e91-fb25-42ab-b485-be8e3b23dedb                         #Alive   \n",
       "2  b01b73b7-81f6-47a7-86d8-acb63080d525  #AnneFrank - Parallel Stories   \n",
       "3  b6611af0-f53c-4a08-9ffa-9716dc57eb9c                       #blackAF   \n",
       "4  7f2d4170-bab8-4d75-adc2-197f7124c070               #cats_the_mewvie   \n",
       "\n",
       "                                         Description  \\\n",
       "0  This docuseries takes a deep dive into the luc...   \n",
       "1  As a grisly virus rampages a city, a lone man ...   \n",
       "2  Through her diary, Anne Frank's story is retol...   \n",
       "3  Kenya Barris and his family navigate relations...   \n",
       "4  This pawesome documentary explores how our fel...   \n",
       "\n",
       "                      Director  \\\n",
       "0                          NaN   \n",
       "1                       Cho Il   \n",
       "2  Sabina Fedeli, Anna Migotto   \n",
       "3                          NaN   \n",
       "4             Michael Margolis   \n",
       "\n",
       "                                           Genres  \\\n",
       "0                                      Reality TV   \n",
       "1  Horror Movies, International Movies, Thrillers   \n",
       "2             Documentaries, International Movies   \n",
       "3                                     TV Comedies   \n",
       "4             Documentaries, International Movies   \n",
       "\n",
       "                                                Cast Production Country  \\\n",
       "0                                                NaN      United States   \n",
       "1                           Yoo Ah-in, Park Shin-hye        South Korea   \n",
       "2                        Helen Mirren, Gengher Gatti              Italy   \n",
       "3  Kenya Barris, Rashida Jones, Iman Benson, Genn...      United States   \n",
       "4                                                NaN             Canada   \n",
       "\n",
       "   Release Date Rating  Duration Imdb Score Content Type         Date Added  \n",
       "0        2020.0  TV-MA  1 Season     6.6/10      TV Show                NaN  \n",
       "1        2020.0  TV-MA    99 min     6.2/10        Movie  September 8, 2020  \n",
       "2        2019.0  TV-14    95 min     6.4/10        Movie       July 1, 2020  \n",
       "3        2020.0  TV-MA  1 Season     6.6/10      TV Show                NaN  \n",
       "4        2020.0  TV-14    90 min     5.1/10        Movie   February 5, 2020  "
      ]
     },
     "execution_count": 3,
     "metadata": {},
     "output_type": "execute_result"
    }
   ],
   "source": [
    "dataset.head()"
   ]
  },
  {
   "cell_type": "code",
   "execution_count": 4,
   "id": "a2f7bbf4",
   "metadata": {},
   "outputs": [
    {
     "data": {
      "text/plain": [
       "(5967, 13)"
      ]
     },
     "execution_count": 4,
     "metadata": {},
     "output_type": "execute_result"
    }
   ],
   "source": [
    "dataset.shape"
   ]
  },
  {
   "cell_type": "code",
   "execution_count": 5,
   "id": "5a45e7bf",
   "metadata": {},
   "outputs": [
    {
     "data": {
      "text/html": [
       "<div>\n",
       "<style scoped>\n",
       "    .dataframe tbody tr th:only-of-type {\n",
       "        vertical-align: middle;\n",
       "    }\n",
       "\n",
       "    .dataframe tbody tr th {\n",
       "        vertical-align: top;\n",
       "    }\n",
       "\n",
       "    .dataframe thead th {\n",
       "        text-align: right;\n",
       "    }\n",
       "</style>\n",
       "<table border=\"1\" class=\"dataframe\">\n",
       "  <thead>\n",
       "    <tr style=\"text-align: right;\">\n",
       "      <th></th>\n",
       "      <th>ID</th>\n",
       "      <th>Título</th>\n",
       "      <th>Descrição</th>\n",
       "      <th>Diretor</th>\n",
       "      <th>Gênero</th>\n",
       "      <th>Elenco</th>\n",
       "      <th>País</th>\n",
       "      <th>Lançamento</th>\n",
       "      <th>Classificação</th>\n",
       "      <th>Duração</th>\n",
       "      <th>IMDB</th>\n",
       "      <th>Tipo</th>\n",
       "      <th>DataAdicionado</th>\n",
       "    </tr>\n",
       "  </thead>\n",
       "  <tbody>\n",
       "    <tr>\n",
       "      <th>0</th>\n",
       "      <td>cc1b6ed9-cf9e-4057-8303-34577fb54477</td>\n",
       "      <td>(Un)Well</td>\n",
       "      <td>This docuseries takes a deep dive into the luc...</td>\n",
       "      <td>NaN</td>\n",
       "      <td>Reality TV</td>\n",
       "      <td>NaN</td>\n",
       "      <td>United States</td>\n",
       "      <td>2020.0</td>\n",
       "      <td>TV-MA</td>\n",
       "      <td>1 Season</td>\n",
       "      <td>6.6/10</td>\n",
       "      <td>TV Show</td>\n",
       "      <td>NaN</td>\n",
       "    </tr>\n",
       "  </tbody>\n",
       "</table>\n",
       "</div>"
      ],
      "text/plain": [
       "                                     ID    Título  \\\n",
       "0  cc1b6ed9-cf9e-4057-8303-34577fb54477  (Un)Well   \n",
       "\n",
       "                                           Descrição Diretor      Gênero  \\\n",
       "0  This docuseries takes a deep dive into the luc...     NaN  Reality TV   \n",
       "\n",
       "  Elenco           País  Lançamento Classificação   Duração    IMDB     Tipo  \\\n",
       "0    NaN  United States      2020.0         TV-MA  1 Season  6.6/10  TV Show   \n",
       "\n",
       "  DataAdicionado  \n",
       "0            NaN  "
      ]
     },
     "execution_count": 5,
     "metadata": {},
     "output_type": "execute_result"
    }
   ],
   "source": [
    "dataset.columns = ['ID', 'Título', 'Descrição', 'Diretor', 'Gênero', 'Elenco', 'País', 'Lançamento', 'Classificação', 'Duração', 'IMDB', 'Tipo', 'DataAdicionado']\n",
    "dataset.head(1)"
   ]
  },
  {
   "cell_type": "code",
   "execution_count": 6,
   "id": "b14f0d3d",
   "metadata": {},
   "outputs": [
    {
     "name": "stdout",
     "output_type": "stream",
     "text": [
      "<class 'pandas.core.frame.DataFrame'>\n",
      "RangeIndex: 5967 entries, 0 to 5966\n",
      "Data columns (total 13 columns):\n",
      " #   Column          Non-Null Count  Dtype  \n",
      "---  ------          --------------  -----  \n",
      " 0   ID              5967 non-null   object \n",
      " 1   Título          5967 non-null   object \n",
      " 2   Descrição       5967 non-null   object \n",
      " 3   Diretor         3903 non-null   object \n",
      " 4   Gênero          5967 non-null   object \n",
      " 5   Elenco          5437 non-null   object \n",
      " 6   País            5408 non-null   object \n",
      " 7   Lançamento      5964 non-null   float64\n",
      " 8   Classificação   5963 non-null   object \n",
      " 9   Duração         5964 non-null   object \n",
      " 10  IMDB            5359 non-null   object \n",
      " 11  Tipo            5967 non-null   object \n",
      " 12  DataAdicionado  4632 non-null   object \n",
      "dtypes: float64(1), object(12)\n",
      "memory usage: 606.1+ KB\n"
     ]
    }
   ],
   "source": [
    "dataset.info()"
   ]
  },
  {
   "cell_type": "code",
   "execution_count": 7,
   "id": "755149c5",
   "metadata": {},
   "outputs": [
    {
     "data": {
      "text/html": [
       "<div>\n",
       "<style scoped>\n",
       "    .dataframe tbody tr th:only-of-type {\n",
       "        vertical-align: middle;\n",
       "    }\n",
       "\n",
       "    .dataframe tbody tr th {\n",
       "        vertical-align: top;\n",
       "    }\n",
       "\n",
       "    .dataframe thead th {\n",
       "        text-align: right;\n",
       "    }\n",
       "</style>\n",
       "<table border=\"1\" class=\"dataframe\">\n",
       "  <thead>\n",
       "    <tr style=\"text-align: right;\">\n",
       "      <th></th>\n",
       "      <th>Lançamento</th>\n",
       "    </tr>\n",
       "  </thead>\n",
       "  <tbody>\n",
       "    <tr>\n",
       "      <th>count</th>\n",
       "      <td>5964.000000</td>\n",
       "    </tr>\n",
       "    <tr>\n",
       "      <th>mean</th>\n",
       "      <td>2015.643863</td>\n",
       "    </tr>\n",
       "    <tr>\n",
       "      <th>std</th>\n",
       "      <td>7.257391</td>\n",
       "    </tr>\n",
       "    <tr>\n",
       "      <th>min</th>\n",
       "      <td>1925.000000</td>\n",
       "    </tr>\n",
       "    <tr>\n",
       "      <th>25%</th>\n",
       "      <td>2015.000000</td>\n",
       "    </tr>\n",
       "    <tr>\n",
       "      <th>50%</th>\n",
       "      <td>2018.000000</td>\n",
       "    </tr>\n",
       "    <tr>\n",
       "      <th>75%</th>\n",
       "      <td>2019.000000</td>\n",
       "    </tr>\n",
       "    <tr>\n",
       "      <th>max</th>\n",
       "      <td>2021.000000</td>\n",
       "    </tr>\n",
       "  </tbody>\n",
       "</table>\n",
       "</div>"
      ],
      "text/plain": [
       "        Lançamento\n",
       "count  5964.000000\n",
       "mean   2015.643863\n",
       "std       7.257391\n",
       "min    1925.000000\n",
       "25%    2015.000000\n",
       "50%    2018.000000\n",
       "75%    2019.000000\n",
       "max    2021.000000"
      ]
     },
     "execution_count": 7,
     "metadata": {},
     "output_type": "execute_result"
    }
   ],
   "source": [
    "dataset.describe()"
   ]
  },
  {
   "cell_type": "code",
   "execution_count": 8,
   "id": "a2d1e711",
   "metadata": {},
   "outputs": [
    {
     "data": {
      "text/html": [
       "<div>\n",
       "<style scoped>\n",
       "    .dataframe tbody tr th:only-of-type {\n",
       "        vertical-align: middle;\n",
       "    }\n",
       "\n",
       "    .dataframe tbody tr th {\n",
       "        vertical-align: top;\n",
       "    }\n",
       "\n",
       "    .dataframe thead th {\n",
       "        text-align: right;\n",
       "    }\n",
       "</style>\n",
       "<table border=\"1\" class=\"dataframe\">\n",
       "  <thead>\n",
       "    <tr style=\"text-align: right;\">\n",
       "      <th></th>\n",
       "      <th>ID</th>\n",
       "      <th>Título</th>\n",
       "      <th>Descrição</th>\n",
       "      <th>Diretor</th>\n",
       "      <th>Gênero</th>\n",
       "      <th>Elenco</th>\n",
       "      <th>País</th>\n",
       "      <th>Lançamento</th>\n",
       "      <th>Classificação</th>\n",
       "      <th>Duração</th>\n",
       "      <th>IMDB</th>\n",
       "      <th>Tipo</th>\n",
       "      <th>DataAdicionado</th>\n",
       "    </tr>\n",
       "  </thead>\n",
       "  <tbody>\n",
       "    <tr>\n",
       "      <th>0</th>\n",
       "      <td>False</td>\n",
       "      <td>False</td>\n",
       "      <td>False</td>\n",
       "      <td>True</td>\n",
       "      <td>False</td>\n",
       "      <td>True</td>\n",
       "      <td>False</td>\n",
       "      <td>False</td>\n",
       "      <td>False</td>\n",
       "      <td>False</td>\n",
       "      <td>False</td>\n",
       "      <td>False</td>\n",
       "      <td>True</td>\n",
       "    </tr>\n",
       "    <tr>\n",
       "      <th>1</th>\n",
       "      <td>False</td>\n",
       "      <td>False</td>\n",
       "      <td>False</td>\n",
       "      <td>False</td>\n",
       "      <td>False</td>\n",
       "      <td>False</td>\n",
       "      <td>False</td>\n",
       "      <td>False</td>\n",
       "      <td>False</td>\n",
       "      <td>False</td>\n",
       "      <td>False</td>\n",
       "      <td>False</td>\n",
       "      <td>False</td>\n",
       "    </tr>\n",
       "    <tr>\n",
       "      <th>2</th>\n",
       "      <td>False</td>\n",
       "      <td>False</td>\n",
       "      <td>False</td>\n",
       "      <td>False</td>\n",
       "      <td>False</td>\n",
       "      <td>False</td>\n",
       "      <td>False</td>\n",
       "      <td>False</td>\n",
       "      <td>False</td>\n",
       "      <td>False</td>\n",
       "      <td>False</td>\n",
       "      <td>False</td>\n",
       "      <td>False</td>\n",
       "    </tr>\n",
       "    <tr>\n",
       "      <th>3</th>\n",
       "      <td>False</td>\n",
       "      <td>False</td>\n",
       "      <td>False</td>\n",
       "      <td>True</td>\n",
       "      <td>False</td>\n",
       "      <td>False</td>\n",
       "      <td>False</td>\n",
       "      <td>False</td>\n",
       "      <td>False</td>\n",
       "      <td>False</td>\n",
       "      <td>False</td>\n",
       "      <td>False</td>\n",
       "      <td>True</td>\n",
       "    </tr>\n",
       "    <tr>\n",
       "      <th>4</th>\n",
       "      <td>False</td>\n",
       "      <td>False</td>\n",
       "      <td>False</td>\n",
       "      <td>False</td>\n",
       "      <td>False</td>\n",
       "      <td>True</td>\n",
       "      <td>False</td>\n",
       "      <td>False</td>\n",
       "      <td>False</td>\n",
       "      <td>False</td>\n",
       "      <td>False</td>\n",
       "      <td>False</td>\n",
       "      <td>False</td>\n",
       "    </tr>\n",
       "    <tr>\n",
       "      <th>...</th>\n",
       "      <td>...</td>\n",
       "      <td>...</td>\n",
       "      <td>...</td>\n",
       "      <td>...</td>\n",
       "      <td>...</td>\n",
       "      <td>...</td>\n",
       "      <td>...</td>\n",
       "      <td>...</td>\n",
       "      <td>...</td>\n",
       "      <td>...</td>\n",
       "      <td>...</td>\n",
       "      <td>...</td>\n",
       "      <td>...</td>\n",
       "    </tr>\n",
       "    <tr>\n",
       "      <th>5962</th>\n",
       "      <td>False</td>\n",
       "      <td>False</td>\n",
       "      <td>False</td>\n",
       "      <td>False</td>\n",
       "      <td>False</td>\n",
       "      <td>False</td>\n",
       "      <td>False</td>\n",
       "      <td>False</td>\n",
       "      <td>False</td>\n",
       "      <td>False</td>\n",
       "      <td>False</td>\n",
       "      <td>False</td>\n",
       "      <td>False</td>\n",
       "    </tr>\n",
       "    <tr>\n",
       "      <th>5963</th>\n",
       "      <td>False</td>\n",
       "      <td>False</td>\n",
       "      <td>False</td>\n",
       "      <td>True</td>\n",
       "      <td>False</td>\n",
       "      <td>False</td>\n",
       "      <td>True</td>\n",
       "      <td>False</td>\n",
       "      <td>False</td>\n",
       "      <td>False</td>\n",
       "      <td>True</td>\n",
       "      <td>False</td>\n",
       "      <td>True</td>\n",
       "    </tr>\n",
       "    <tr>\n",
       "      <th>5964</th>\n",
       "      <td>False</td>\n",
       "      <td>False</td>\n",
       "      <td>False</td>\n",
       "      <td>True</td>\n",
       "      <td>False</td>\n",
       "      <td>False</td>\n",
       "      <td>True</td>\n",
       "      <td>False</td>\n",
       "      <td>False</td>\n",
       "      <td>False</td>\n",
       "      <td>True</td>\n",
       "      <td>False</td>\n",
       "      <td>True</td>\n",
       "    </tr>\n",
       "    <tr>\n",
       "      <th>5965</th>\n",
       "      <td>False</td>\n",
       "      <td>False</td>\n",
       "      <td>False</td>\n",
       "      <td>False</td>\n",
       "      <td>False</td>\n",
       "      <td>False</td>\n",
       "      <td>False</td>\n",
       "      <td>False</td>\n",
       "      <td>False</td>\n",
       "      <td>False</td>\n",
       "      <td>False</td>\n",
       "      <td>False</td>\n",
       "      <td>False</td>\n",
       "    </tr>\n",
       "    <tr>\n",
       "      <th>5966</th>\n",
       "      <td>False</td>\n",
       "      <td>False</td>\n",
       "      <td>False</td>\n",
       "      <td>False</td>\n",
       "      <td>False</td>\n",
       "      <td>False</td>\n",
       "      <td>True</td>\n",
       "      <td>False</td>\n",
       "      <td>False</td>\n",
       "      <td>False</td>\n",
       "      <td>False</td>\n",
       "      <td>False</td>\n",
       "      <td>False</td>\n",
       "    </tr>\n",
       "  </tbody>\n",
       "</table>\n",
       "<p>5967 rows × 13 columns</p>\n",
       "</div>"
      ],
      "text/plain": [
       "         ID  Título  Descrição  Diretor  Gênero  Elenco   País  Lançamento  \\\n",
       "0     False   False      False     True   False    True  False       False   \n",
       "1     False   False      False    False   False   False  False       False   \n",
       "2     False   False      False    False   False   False  False       False   \n",
       "3     False   False      False     True   False   False  False       False   \n",
       "4     False   False      False    False   False    True  False       False   \n",
       "...     ...     ...        ...      ...     ...     ...    ...         ...   \n",
       "5962  False   False      False    False   False   False  False       False   \n",
       "5963  False   False      False     True   False   False   True       False   \n",
       "5964  False   False      False     True   False   False   True       False   \n",
       "5965  False   False      False    False   False   False  False       False   \n",
       "5966  False   False      False    False   False   False   True       False   \n",
       "\n",
       "      Classificação  Duração   IMDB   Tipo  DataAdicionado  \n",
       "0             False    False  False  False            True  \n",
       "1             False    False  False  False           False  \n",
       "2             False    False  False  False           False  \n",
       "3             False    False  False  False            True  \n",
       "4             False    False  False  False           False  \n",
       "...             ...      ...    ...    ...             ...  \n",
       "5962          False    False  False  False           False  \n",
       "5963          False    False   True  False            True  \n",
       "5964          False    False   True  False            True  \n",
       "5965          False    False  False  False           False  \n",
       "5966          False    False  False  False           False  \n",
       "\n",
       "[5967 rows x 13 columns]"
      ]
     },
     "execution_count": 8,
     "metadata": {},
     "output_type": "execute_result"
    }
   ],
   "source": [
    "dataset.isnull()"
   ]
  },
  {
   "cell_type": "code",
   "execution_count": 9,
   "id": "df54ecb4",
   "metadata": {},
   "outputs": [
    {
     "data": {
      "text/plain": [
       "ID                   0\n",
       "Título               0\n",
       "Descrição            0\n",
       "Diretor           2064\n",
       "Gênero               0\n",
       "Elenco             530\n",
       "País               559\n",
       "Lançamento           3\n",
       "Classificação        4\n",
       "Duração              3\n",
       "IMDB               608\n",
       "Tipo                 0\n",
       "DataAdicionado    1335\n",
       "dtype: int64"
      ]
     },
     "execution_count": 9,
     "metadata": {},
     "output_type": "execute_result"
    }
   ],
   "source": [
    "total_null=dataset.isnull().sum() \n",
    "total_null"
   ]
  },
  {
   "cell_type": "code",
   "execution_count": 10,
   "id": "5c679dd6",
   "metadata": {},
   "outputs": [
    {
     "name": "stdout",
     "output_type": "stream",
     "text": [
      "ID                 0.00\n",
      "Título             0.00\n",
      "Descrição          0.00\n",
      "Diretor           34.59\n",
      "Gênero             0.00\n",
      "Elenco             8.88\n",
      "País               9.37\n",
      "Lançamento         0.05\n",
      "Classificação      0.07\n",
      "Duração            0.05\n",
      "IMDB              10.19\n",
      "Tipo               0.00\n",
      "DataAdicionado    22.37\n",
      "dtype: float64\n"
     ]
    }
   ],
   "source": [
    "print(round(total_null*100/len(dataset),2))"
   ]
  },
  {
   "cell_type": "markdown",
   "id": "3de1aa1a",
   "metadata": {},
   "source": [
    "## Explorando as categorias e tratando"
   ]
  },
  {
   "cell_type": "markdown",
   "id": "f53dc50a",
   "metadata": {},
   "source": [
    "## Categoria Título"
   ]
  },
  {
   "cell_type": "code",
   "execution_count": 11,
   "id": "353a0f30",
   "metadata": {},
   "outputs": [
    {
     "data": {
      "text/plain": [
       "Título\n",
       "#Alive                                 1\n",
       "#AnneFrank - Parallel Stories          1\n",
       "#FriendButMarried                      1\n",
       "#FriendButMarried 2                    1\n",
       "#Rucker50                              1\n",
       "                                      ..\n",
       "​SAINT SEIYA: Knights of the Zodiac    1\n",
       "​​Kuch Bheege Alfaaz                   1\n",
       "海的儿子                                   1\n",
       "반드시 잡는다                                1\n",
       "최강전사 미니특공대 : 영웅의 탄생                    1\n",
       "Length: 5897, dtype: int64"
      ]
     },
     "execution_count": 11,
     "metadata": {},
     "output_type": "execute_result"
    }
   ],
   "source": [
    "#explorar dados categoricos\n",
    "#Título\n",
    "agrupado = dataset.groupby(['Título']).size()\n",
    "agrupado"
   ]
  },
  {
   "cell_type": "code",
   "execution_count": 12,
   "id": "f7537d26",
   "metadata": {},
   "outputs": [
    {
     "data": {
      "text/plain": [
       "0"
      ]
     },
     "execution_count": 12,
     "metadata": {},
     "output_type": "execute_result"
    }
   ],
   "source": [
    "dataset['Título'].isnull().sum()"
   ]
  },
  {
   "cell_type": "code",
   "execution_count": 13,
   "id": "68afe2d8",
   "metadata": {},
   "outputs": [],
   "source": [
    "dataset['Título'] = dataset['Título'].str.replace('#','')"
   ]
  },
  {
   "cell_type": "code",
   "execution_count": 14,
   "id": "f2dc3650",
   "metadata": {},
   "outputs": [
    {
     "data": {
      "text/plain": [
       "0    (Un)Well\n",
       "1       Alive\n",
       "Name: Título, dtype: object"
      ]
     },
     "execution_count": 14,
     "metadata": {},
     "output_type": "execute_result"
    }
   ],
   "source": [
    "dataset['Título'].head(2)"
   ]
  },
  {
   "cell_type": "markdown",
   "id": "ead7ced8",
   "metadata": {},
   "source": [
    "## Descrição"
   ]
  },
  {
   "cell_type": "code",
   "execution_count": 15,
   "id": "5a036716",
   "metadata": {},
   "outputs": [
    {
     "data": {
      "text/plain": [
       "0    This docuseries takes a deep dive into the luc...\n",
       "1    As a grisly virus rampages a city, a lone man ...\n",
       "Name: Descrição, dtype: object"
      ]
     },
     "execution_count": 15,
     "metadata": {},
     "output_type": "execute_result"
    }
   ],
   "source": [
    "#explorar dados categoricos\n",
    "#Descrição\n",
    "dataset['Descrição'].head(2)"
   ]
  },
  {
   "cell_type": "code",
   "execution_count": 16,
   "id": "cdd1d351",
   "metadata": {},
   "outputs": [
    {
     "data": {
      "text/plain": [
       "0"
      ]
     },
     "execution_count": 16,
     "metadata": {},
     "output_type": "execute_result"
    }
   ],
   "source": [
    "dataset['Descrição'].isnull().sum()"
   ]
  },
  {
   "cell_type": "code",
   "execution_count": 17,
   "id": "d6018357",
   "metadata": {
    "scrolled": true
   },
   "outputs": [
    {
     "data": {
      "text/html": [
       "<div>\n",
       "<style scoped>\n",
       "    .dataframe tbody tr th:only-of-type {\n",
       "        vertical-align: middle;\n",
       "    }\n",
       "\n",
       "    .dataframe tbody tr th {\n",
       "        vertical-align: top;\n",
       "    }\n",
       "\n",
       "    .dataframe thead th {\n",
       "        text-align: right;\n",
       "    }\n",
       "</style>\n",
       "<table border=\"1\" class=\"dataframe\">\n",
       "  <thead>\n",
       "    <tr style=\"text-align: right;\">\n",
       "      <th></th>\n",
       "      <th>ID</th>\n",
       "      <th>Título</th>\n",
       "      <th>Diretor</th>\n",
       "      <th>Gênero</th>\n",
       "      <th>Elenco</th>\n",
       "      <th>País</th>\n",
       "      <th>Lançamento</th>\n",
       "      <th>Classificação</th>\n",
       "      <th>Duração</th>\n",
       "      <th>IMDB</th>\n",
       "      <th>Tipo</th>\n",
       "      <th>DataAdicionado</th>\n",
       "    </tr>\n",
       "  </thead>\n",
       "  <tbody>\n",
       "    <tr>\n",
       "      <th>0</th>\n",
       "      <td>cc1b6ed9-cf9e-4057-8303-34577fb54477</td>\n",
       "      <td>(Un)Well</td>\n",
       "      <td>NaN</td>\n",
       "      <td>Reality TV</td>\n",
       "      <td>NaN</td>\n",
       "      <td>United States</td>\n",
       "      <td>2020.0</td>\n",
       "      <td>TV-MA</td>\n",
       "      <td>1 Season</td>\n",
       "      <td>6.6/10</td>\n",
       "      <td>TV Show</td>\n",
       "      <td>NaN</td>\n",
       "    </tr>\n",
       "    <tr>\n",
       "      <th>1</th>\n",
       "      <td>e2ef4e91-fb25-42ab-b485-be8e3b23dedb</td>\n",
       "      <td>Alive</td>\n",
       "      <td>Cho Il</td>\n",
       "      <td>Horror Movies, International Movies, Thrillers</td>\n",
       "      <td>Yoo Ah-in, Park Shin-hye</td>\n",
       "      <td>South Korea</td>\n",
       "      <td>2020.0</td>\n",
       "      <td>TV-MA</td>\n",
       "      <td>99 min</td>\n",
       "      <td>6.2/10</td>\n",
       "      <td>Movie</td>\n",
       "      <td>September 8, 2020</td>\n",
       "    </tr>\n",
       "  </tbody>\n",
       "</table>\n",
       "</div>"
      ],
      "text/plain": [
       "                                     ID    Título Diretor  \\\n",
       "0  cc1b6ed9-cf9e-4057-8303-34577fb54477  (Un)Well     NaN   \n",
       "1  e2ef4e91-fb25-42ab-b485-be8e3b23dedb     Alive  Cho Il   \n",
       "\n",
       "                                           Gênero                    Elenco  \\\n",
       "0                                      Reality TV                       NaN   \n",
       "1  Horror Movies, International Movies, Thrillers  Yoo Ah-in, Park Shin-hye   \n",
       "\n",
       "            País  Lançamento Classificação   Duração    IMDB     Tipo  \\\n",
       "0  United States      2020.0         TV-MA  1 Season  6.6/10  TV Show   \n",
       "1    South Korea      2020.0         TV-MA    99 min  6.2/10    Movie   \n",
       "\n",
       "      DataAdicionado  \n",
       "0                NaN  \n",
       "1  September 8, 2020  "
      ]
     },
     "execution_count": 17,
     "metadata": {},
     "output_type": "execute_result"
    }
   ],
   "source": [
    "#Deletando a coluna Descrição, visto não ter necessidade na analise atual que estamos realizando\n",
    "dataset.drop(columns=['Descrição'], inplace = True)\n",
    "dataset.head(2)"
   ]
  },
  {
   "cell_type": "code",
   "execution_count": 18,
   "id": "b461ea54",
   "metadata": {},
   "outputs": [
    {
     "data": {
      "text/html": [
       "<div>\n",
       "<style scoped>\n",
       "    .dataframe tbody tr th:only-of-type {\n",
       "        vertical-align: middle;\n",
       "    }\n",
       "\n",
       "    .dataframe tbody tr th {\n",
       "        vertical-align: top;\n",
       "    }\n",
       "\n",
       "    .dataframe thead th {\n",
       "        text-align: right;\n",
       "    }\n",
       "</style>\n",
       "<table border=\"1\" class=\"dataframe\">\n",
       "  <thead>\n",
       "    <tr style=\"text-align: right;\">\n",
       "      <th></th>\n",
       "      <th>ID</th>\n",
       "      <th>Título</th>\n",
       "      <th>Diretor</th>\n",
       "      <th>Gênero</th>\n",
       "      <th>Elenco</th>\n",
       "      <th>País</th>\n",
       "      <th>Lançamento</th>\n",
       "      <th>Classificação</th>\n",
       "      <th>Duração</th>\n",
       "      <th>IMDB</th>\n",
       "      <th>Tipo</th>\n",
       "    </tr>\n",
       "  </thead>\n",
       "  <tbody>\n",
       "    <tr>\n",
       "      <th>0</th>\n",
       "      <td>cc1b6ed9-cf9e-4057-8303-34577fb54477</td>\n",
       "      <td>(Un)Well</td>\n",
       "      <td>NaN</td>\n",
       "      <td>Reality TV</td>\n",
       "      <td>NaN</td>\n",
       "      <td>United States</td>\n",
       "      <td>2020.0</td>\n",
       "      <td>TV-MA</td>\n",
       "      <td>1 Season</td>\n",
       "      <td>6.6/10</td>\n",
       "      <td>TV Show</td>\n",
       "    </tr>\n",
       "    <tr>\n",
       "      <th>1</th>\n",
       "      <td>e2ef4e91-fb25-42ab-b485-be8e3b23dedb</td>\n",
       "      <td>Alive</td>\n",
       "      <td>Cho Il</td>\n",
       "      <td>Horror Movies, International Movies, Thrillers</td>\n",
       "      <td>Yoo Ah-in, Park Shin-hye</td>\n",
       "      <td>South Korea</td>\n",
       "      <td>2020.0</td>\n",
       "      <td>TV-MA</td>\n",
       "      <td>99 min</td>\n",
       "      <td>6.2/10</td>\n",
       "      <td>Movie</td>\n",
       "    </tr>\n",
       "  </tbody>\n",
       "</table>\n",
       "</div>"
      ],
      "text/plain": [
       "                                     ID    Título Diretor  \\\n",
       "0  cc1b6ed9-cf9e-4057-8303-34577fb54477  (Un)Well     NaN   \n",
       "1  e2ef4e91-fb25-42ab-b485-be8e3b23dedb     Alive  Cho Il   \n",
       "\n",
       "                                           Gênero                    Elenco  \\\n",
       "0                                      Reality TV                       NaN   \n",
       "1  Horror Movies, International Movies, Thrillers  Yoo Ah-in, Park Shin-hye   \n",
       "\n",
       "            País  Lançamento Classificação   Duração    IMDB     Tipo  \n",
       "0  United States      2020.0         TV-MA  1 Season  6.6/10  TV Show  \n",
       "1    South Korea      2020.0         TV-MA    99 min  6.2/10    Movie  "
      ]
     },
     "execution_count": 18,
     "metadata": {},
     "output_type": "execute_result"
    }
   ],
   "source": [
    "#Deletando a coluna Descrição, visto não ter necessidade na analise atual que estamos realizando\n",
    "dataset.drop(columns=['DataAdicionado'], inplace = True)\n",
    "dataset.head(2)"
   ]
  },
  {
   "cell_type": "markdown",
   "id": "073fc659",
   "metadata": {},
   "source": [
    "## Categoria Diretor"
   ]
  },
  {
   "cell_type": "code",
   "execution_count": 19,
   "id": "a0d0ef31",
   "metadata": {},
   "outputs": [
    {
     "data": {
      "text/plain": [
       "2064"
      ]
     },
     "execution_count": 19,
     "metadata": {},
     "output_type": "execute_result"
    }
   ],
   "source": [
    "#explorar dados categoricos\n",
    "#Diretor\n",
    "dataset['Diretor'].isnull().sum()"
   ]
  },
  {
   "cell_type": "code",
   "execution_count": 20,
   "id": "773648be",
   "metadata": {},
   "outputs": [],
   "source": [
    "# Tratando as colunas Diretor colocando no lugar de null o valor \"Não Informado\"\n",
    "dataset[\"Diretor\"].fillna(\"Não Informado\", inplace=True)"
   ]
  },
  {
   "cell_type": "code",
   "execution_count": 21,
   "id": "7a1c5fb8",
   "metadata": {},
   "outputs": [
    {
     "data": {
      "text/plain": [
       "Diretor\n",
       "A. L. Vijay              1\n",
       "A. Raajdheep             1\n",
       "A. Salaam                1\n",
       "A.R. Murugadoss          3\n",
       "Aadish Keluskar          1\n",
       "                        ..\n",
       "Ángel Gómez Hernández    1\n",
       "Ángeles Reiné            1\n",
       "Ísold Uggadóttir         1\n",
       "Ömer Faruk Sorak         1\n",
       "Şenol Sönmez             2\n",
       "Length: 2994, dtype: int64"
      ]
     },
     "execution_count": 21,
     "metadata": {},
     "output_type": "execute_result"
    }
   ],
   "source": [
    "agrupado = dataset.groupby(['Diretor']).size()\n",
    "agrupado"
   ]
  },
  {
   "cell_type": "markdown",
   "id": "f7dba496",
   "metadata": {},
   "source": [
    "## Categoria Gênero"
   ]
  },
  {
   "cell_type": "code",
   "execution_count": 22,
   "id": "86d0649f",
   "metadata": {},
   "outputs": [
    {
     "data": {
      "text/plain": [
       "0"
      ]
     },
     "execution_count": 22,
     "metadata": {},
     "output_type": "execute_result"
    }
   ],
   "source": [
    "#explorar dados categoricos\n",
    "#Gênero\n",
    "dataset['Gênero'].isnull().sum()"
   ]
  },
  {
   "cell_type": "code",
   "execution_count": 23,
   "id": "f2bdda42",
   "metadata": {},
   "outputs": [
    {
     "data": {
      "text/plain": [
       "0                                        Reality TV\n",
       "1    Horror Movies, International Movies, Thrillers\n",
       "2               Documentaries, International Movies\n",
       "3                                       TV Comedies\n",
       "4               Documentaries, International Movies\n",
       "Name: Gênero, dtype: object"
      ]
     },
     "execution_count": 23,
     "metadata": {},
     "output_type": "execute_result"
    }
   ],
   "source": [
    "dataset['Gênero'].head()"
   ]
  },
  {
   "cell_type": "code",
   "execution_count": 24,
   "id": "63ad7e09",
   "metadata": {},
   "outputs": [
    {
     "data": {
      "text/plain": [
       "Gênero\n",
       "Action & Adventure                                              65\n",
       "Action & Adventure, Anime Features, Children & Family Movies     3\n",
       "Action & Adventure, Anime Features, Classic Movies               2\n",
       "Action & Adventure, Anime Features, Horror Movies                1\n",
       "Action & Adventure, Anime Features, International Movies        31\n",
       "                                                                ..\n",
       "TV Horror, TV Mysteries, Teen TV Shows                           1\n",
       "TV Horror, Teen TV Shows                                         2\n",
       "TV Sci-Fi & Fantasy, TV Thrillers                                1\n",
       "TV Shows                                                         9\n",
       "Thrillers                                                       33\n",
       "Length: 433, dtype: int64"
      ]
     },
     "execution_count": 24,
     "metadata": {},
     "output_type": "execute_result"
    }
   ],
   "source": [
    "agrupado2 = dataset.groupby(['Gênero']).size()\n",
    "agrupado2"
   ]
  },
  {
   "cell_type": "markdown",
   "id": "753f3175",
   "metadata": {},
   "source": [
    "## Categoria Elenco"
   ]
  },
  {
   "cell_type": "code",
   "execution_count": 25,
   "id": "6b5d62d4",
   "metadata": {},
   "outputs": [
    {
     "data": {
      "text/plain": [
       "530"
      ]
     },
     "execution_count": 25,
     "metadata": {},
     "output_type": "execute_result"
    }
   ],
   "source": [
    "#explorar dados categoricos\n",
    "#Elenco\n",
    "dataset['Elenco'].isnull().sum()"
   ]
  },
  {
   "cell_type": "code",
   "execution_count": 26,
   "id": "5d6b2350",
   "metadata": {},
   "outputs": [],
   "source": [
    "# Tratando as colunas Elenco colocando no lugar de null o valor \"Não Informado\"\n",
    "dataset[\"Elenco\"].fillna(\"Não Informado\", inplace=True)"
   ]
  },
  {
   "cell_type": "code",
   "execution_count": 27,
   "id": "014fd4a5",
   "metadata": {},
   "outputs": [
    {
     "data": {
      "text/plain": [
       "0               Não Informado\n",
       "1    Yoo Ah-in, Park Shin-hye\n",
       "Name: Elenco, dtype: object"
      ]
     },
     "execution_count": 27,
     "metadata": {},
     "output_type": "execute_result"
    }
   ],
   "source": [
    "dataset[\"Elenco\"].head(2)"
   ]
  },
  {
   "cell_type": "code",
   "execution_count": 28,
   "id": "eac7a2ac",
   "metadata": {},
   "outputs": [
    {
     "data": {
      "text/html": [
       "<div>\n",
       "<style scoped>\n",
       "    .dataframe tbody tr th:only-of-type {\n",
       "        vertical-align: middle;\n",
       "    }\n",
       "\n",
       "    .dataframe tbody tr th {\n",
       "        vertical-align: top;\n",
       "    }\n",
       "\n",
       "    .dataframe thead th {\n",
       "        text-align: right;\n",
       "    }\n",
       "</style>\n",
       "<table border=\"1\" class=\"dataframe\">\n",
       "  <thead>\n",
       "    <tr style=\"text-align: right;\">\n",
       "      <th></th>\n",
       "      <th>ID</th>\n",
       "      <th>Título</th>\n",
       "      <th>Diretor</th>\n",
       "      <th>Gênero</th>\n",
       "      <th>País</th>\n",
       "      <th>Lançamento</th>\n",
       "      <th>Classificação</th>\n",
       "      <th>Duração</th>\n",
       "      <th>IMDB</th>\n",
       "      <th>Tipo</th>\n",
       "    </tr>\n",
       "  </thead>\n",
       "  <tbody>\n",
       "    <tr>\n",
       "      <th>0</th>\n",
       "      <td>cc1b6ed9-cf9e-4057-8303-34577fb54477</td>\n",
       "      <td>(Un)Well</td>\n",
       "      <td>Não Informado</td>\n",
       "      <td>Reality TV</td>\n",
       "      <td>United States</td>\n",
       "      <td>2020.0</td>\n",
       "      <td>TV-MA</td>\n",
       "      <td>1 Season</td>\n",
       "      <td>6.6/10</td>\n",
       "      <td>TV Show</td>\n",
       "    </tr>\n",
       "    <tr>\n",
       "      <th>1</th>\n",
       "      <td>e2ef4e91-fb25-42ab-b485-be8e3b23dedb</td>\n",
       "      <td>Alive</td>\n",
       "      <td>Cho Il</td>\n",
       "      <td>Horror Movies, International Movies, Thrillers</td>\n",
       "      <td>South Korea</td>\n",
       "      <td>2020.0</td>\n",
       "      <td>TV-MA</td>\n",
       "      <td>99 min</td>\n",
       "      <td>6.2/10</td>\n",
       "      <td>Movie</td>\n",
       "    </tr>\n",
       "  </tbody>\n",
       "</table>\n",
       "</div>"
      ],
      "text/plain": [
       "                                     ID    Título        Diretor  \\\n",
       "0  cc1b6ed9-cf9e-4057-8303-34577fb54477  (Un)Well  Não Informado   \n",
       "1  e2ef4e91-fb25-42ab-b485-be8e3b23dedb     Alive         Cho Il   \n",
       "\n",
       "                                           Gênero           País  Lançamento  \\\n",
       "0                                      Reality TV  United States      2020.0   \n",
       "1  Horror Movies, International Movies, Thrillers    South Korea      2020.0   \n",
       "\n",
       "  Classificação   Duração    IMDB     Tipo  \n",
       "0         TV-MA  1 Season  6.6/10  TV Show  \n",
       "1         TV-MA    99 min  6.2/10    Movie  "
      ]
     },
     "execution_count": 28,
     "metadata": {},
     "output_type": "execute_result"
    }
   ],
   "source": [
    "#Deletando a categoria Elenco, visto não ter necessidade na analise atual que estamos realizando\n",
    "dataset.drop(columns=['Elenco'], inplace = True)\n",
    "dataset.head(2)"
   ]
  },
  {
   "cell_type": "markdown",
   "id": "6cd03207",
   "metadata": {},
   "source": [
    "## Categoria País"
   ]
  },
  {
   "cell_type": "code",
   "execution_count": 29,
   "id": "871d3e47",
   "metadata": {},
   "outputs": [
    {
     "data": {
      "text/plain": [
       "559"
      ]
     },
     "execution_count": 29,
     "metadata": {},
     "output_type": "execute_result"
    }
   ],
   "source": [
    "#explorar dados categoricos\n",
    "#País\n",
    "dataset['País'].isnull().sum()"
   ]
  },
  {
   "cell_type": "code",
   "execution_count": 30,
   "id": "c5f884ed",
   "metadata": {},
   "outputs": [
    {
     "data": {
      "text/html": [
       "<div>\n",
       "<style scoped>\n",
       "    .dataframe tbody tr th:only-of-type {\n",
       "        vertical-align: middle;\n",
       "    }\n",
       "\n",
       "    .dataframe tbody tr th {\n",
       "        vertical-align: top;\n",
       "    }\n",
       "\n",
       "    .dataframe thead th {\n",
       "        text-align: right;\n",
       "    }\n",
       "</style>\n",
       "<table border=\"1\" class=\"dataframe\">\n",
       "  <thead>\n",
       "    <tr style=\"text-align: right;\">\n",
       "      <th></th>\n",
       "      <th>ID</th>\n",
       "      <th>Título</th>\n",
       "      <th>Diretor</th>\n",
       "      <th>Gênero</th>\n",
       "      <th>País</th>\n",
       "      <th>Lançamento</th>\n",
       "      <th>Classificação</th>\n",
       "      <th>Duração</th>\n",
       "      <th>IMDB</th>\n",
       "      <th>Tipo</th>\n",
       "    </tr>\n",
       "  </thead>\n",
       "  <tbody>\n",
       "    <tr>\n",
       "      <th>0</th>\n",
       "      <td>cc1b6ed9-cf9e-4057-8303-34577fb54477</td>\n",
       "      <td>(Un)Well</td>\n",
       "      <td>Não Informado</td>\n",
       "      <td>Reality TV</td>\n",
       "      <td>United States</td>\n",
       "      <td>2020.0</td>\n",
       "      <td>TV-MA</td>\n",
       "      <td>1 Season</td>\n",
       "      <td>6.6/10</td>\n",
       "      <td>TV Show</td>\n",
       "    </tr>\n",
       "    <tr>\n",
       "      <th>1</th>\n",
       "      <td>e2ef4e91-fb25-42ab-b485-be8e3b23dedb</td>\n",
       "      <td>Alive</td>\n",
       "      <td>Cho Il</td>\n",
       "      <td>Horror Movies, International Movies, Thrillers</td>\n",
       "      <td>South Korea</td>\n",
       "      <td>2020.0</td>\n",
       "      <td>TV-MA</td>\n",
       "      <td>99 min</td>\n",
       "      <td>6.2/10</td>\n",
       "      <td>Movie</td>\n",
       "    </tr>\n",
       "  </tbody>\n",
       "</table>\n",
       "</div>"
      ],
      "text/plain": [
       "                                     ID    Título        Diretor  \\\n",
       "0  cc1b6ed9-cf9e-4057-8303-34577fb54477  (Un)Well  Não Informado   \n",
       "1  e2ef4e91-fb25-42ab-b485-be8e3b23dedb     Alive         Cho Il   \n",
       "\n",
       "                                           Gênero           País  Lançamento  \\\n",
       "0                                      Reality TV  United States      2020.0   \n",
       "1  Horror Movies, International Movies, Thrillers    South Korea      2020.0   \n",
       "\n",
       "  Classificação   Duração    IMDB     Tipo  \n",
       "0         TV-MA  1 Season  6.6/10  TV Show  \n",
       "1         TV-MA    99 min  6.2/10    Movie  "
      ]
     },
     "execution_count": 30,
     "metadata": {},
     "output_type": "execute_result"
    }
   ],
   "source": [
    "# Tratando a categoria País, colocando no lugar de null o valor \"Não Informado\"\n",
    "\n",
    "dataset[\"País\"].fillna(\"Não Informado\", inplace=True)\n",
    "dataset.head(2)"
   ]
  },
  {
   "cell_type": "code",
   "execution_count": 31,
   "id": "52e5deda",
   "metadata": {},
   "outputs": [
    {
     "data": {
      "text/plain": [
       "País\n",
       "Argentina                                              40\n",
       "Argentina, Brazil, France, Poland, Germany, Denmark     1\n",
       "Argentina, Chile                                        1\n",
       "Argentina, France                                       1\n",
       "Argentina, Italy                                        2\n",
       "                                                       ..\n",
       "Uruguay, Guatemala                                      1\n",
       "Uruguay, Spain, Mexico                                  1\n",
       "Vietnam                                                 4\n",
       "West Germany                                            1\n",
       "Zimbabwe                                                1\n",
       "Length: 510, dtype: int64"
      ]
     },
     "execution_count": 31,
     "metadata": {},
     "output_type": "execute_result"
    }
   ],
   "source": [
    "agrupado3 = dataset.groupby(['País']).size()\n",
    "agrupado3"
   ]
  },
  {
   "cell_type": "code",
   "execution_count": null,
   "id": "573b6ece",
   "metadata": {},
   "outputs": [],
   "source": []
  },
  {
   "cell_type": "code",
   "execution_count": null,
   "id": "319e8b3b",
   "metadata": {},
   "outputs": [],
   "source": []
  },
  {
   "cell_type": "markdown",
   "id": "54ef45fa",
   "metadata": {},
   "source": [
    "## Categoria Lançamento"
   ]
  },
  {
   "cell_type": "code",
   "execution_count": 32,
   "id": "3a743635",
   "metadata": {},
   "outputs": [
    {
     "data": {
      "text/plain": [
       "count    5964.000000\n",
       "mean     2015.643863\n",
       "std         7.257391\n",
       "min      1925.000000\n",
       "25%      2015.000000\n",
       "50%      2018.000000\n",
       "75%      2019.000000\n",
       "max      2021.000000\n",
       "Name: Lançamento, dtype: float64"
      ]
     },
     "execution_count": 32,
     "metadata": {},
     "output_type": "execute_result"
    }
   ],
   "source": [
    "#explorar coluna de Data\n",
    "#Lançamento\n",
    "dataset['Lançamento'].describe()"
   ]
  },
  {
   "cell_type": "code",
   "execution_count": 33,
   "id": "00accec2",
   "metadata": {},
   "outputs": [
    {
     "data": {
      "text/plain": [
       "3"
      ]
     },
     "execution_count": 33,
     "metadata": {},
     "output_type": "execute_result"
    }
   ],
   "source": [
    "dataset['Lançamento'].isnull().sum()"
   ]
  },
  {
   "cell_type": "code",
   "execution_count": 34,
   "id": "33b23023",
   "metadata": {},
   "outputs": [
    {
     "data": {
      "text/plain": [
       "0   2020-01-01\n",
       "1   2020-01-01\n",
       "2   2019-01-01\n",
       "3   2020-01-01\n",
       "4   2020-01-01\n",
       "Name: Lançamento, dtype: datetime64[ns]"
      ]
     },
     "execution_count": 34,
     "metadata": {},
     "output_type": "execute_result"
    }
   ],
   "source": [
    "dataset['Lançamento'] = pd.to_datetime(dataset['Lançamento'], format='%Y') \n",
    "dataset['Lançamento'].head()"
   ]
  },
  {
   "cell_type": "code",
   "execution_count": 35,
   "id": "a79f93dd",
   "metadata": {},
   "outputs": [
    {
     "data": {
      "text/plain": [
       "0"
      ]
     },
     "execution_count": 35,
     "metadata": {},
     "output_type": "execute_result"
    }
   ],
   "source": [
    "#Tratando a coluna lançamento e colocando a mediana no valores null\n",
    "dataset[\"Lançamento\"].fillna(dataset['Lançamento'].median(), inplace=True)\n",
    "dataset['Lançamento'].isnull().sum()"
   ]
  },
  {
   "cell_type": "code",
   "execution_count": 36,
   "id": "290b2681",
   "metadata": {},
   "outputs": [
    {
     "name": "stderr",
     "output_type": "stream",
     "text": [
      "C:\\Users\\PC\\anaconda3\\lib\\site-packages\\seaborn\\distributions.py:2619: FutureWarning: `distplot` is a deprecated function and will be removed in a future version. Please adapt your code to use either `displot` (a figure-level function with similar flexibility) or `histplot` (an axes-level function for histograms).\n",
      "  warnings.warn(msg, FutureWarning)\n"
     ]
    },
    {
     "data": {
      "text/plain": [
       "Text(0.5, 1.0, 'Lançamento')"
      ]
     },
     "execution_count": 36,
     "metadata": {},
     "output_type": "execute_result"
    },
    {
     "data": {
      "image/png": "[encoded data removed]",
      "text/plain": [
       "<Figure size 432x288 with 1 Axes>"
      ]
     },
     "metadata": {
      "needs_background": "light"
     },
     "output_type": "display_data"
    }
   ],
   "source": [
    "srn.distplot(dataset['Lançamento'], bins = 10, axlabel = 'Anos').set_title('Lançamento')"
   ]
  },
  {
   "cell_type": "code",
   "execution_count": 37,
   "id": "7b6f64b2",
   "metadata": {},
   "outputs": [
    {
     "data": {
      "text/plain": [
       "Text(0.5, 0, 'Anos')"
      ]
     },
     "execution_count": 37,
     "metadata": {},
     "output_type": "execute_result"
    },
    {
     "data": {
      "image/png": "[encoded data removed]",
      "text/plain": [
       "<Figure size 432x288 with 1 Axes>"
      ]
     },
     "metadata": {
      "needs_background": "light"
     },
     "output_type": "display_data"
    }
   ],
   "source": [
    "# Visualização do histograma com 6 divisões (bins)\n",
    "plt.hist(dataset['Lançamento'], bins = 6)\n",
    "plt.title('Lançamento')\n",
    "plt.ylabel('Frequência')\n",
    "plt.xlabel('Anos')"
   ]
  },
  {
   "cell_type": "markdown",
   "id": "922f0aaf",
   "metadata": {},
   "source": [
    "## Categoria Classificação"
   ]
  },
  {
   "cell_type": "code",
   "execution_count": 38,
   "id": "85fee3f5",
   "metadata": {},
   "outputs": [
    {
     "data": {
      "text/plain": [
       "0    TV-MA\n",
       "1    TV-MA\n",
       "2    TV-14\n",
       "3    TV-MA\n",
       "4    TV-14\n",
       "Name: Classificação, dtype: object"
      ]
     },
     "execution_count": 38,
     "metadata": {},
     "output_type": "execute_result"
    }
   ],
   "source": [
    "dataset['Classificação'].head()"
   ]
  },
  {
   "cell_type": "code",
   "execution_count": 39,
   "id": "f2cee5d7",
   "metadata": {},
   "outputs": [
    {
     "data": {
      "text/plain": [
       "array(['TV-MA', 'TV-14', 'TV-G', 'TV-PG', 'TV-Y', 'R', 'PG-13', 'TV-Y7',\n",
       "       'PG', 'G', nan, 'NC-17'], dtype=object)"
      ]
     },
     "execution_count": 39,
     "metadata": {},
     "output_type": "execute_result"
    }
   ],
   "source": [
    "dataset['Classificação'].unique()"
   ]
  },
  {
   "cell_type": "code",
   "execution_count": 40,
   "id": "f9526970",
   "metadata": {},
   "outputs": [
    {
     "data": {
      "text/html": [
       "<div>\n",
       "<style scoped>\n",
       "    .dataframe tbody tr th:only-of-type {\n",
       "        vertical-align: middle;\n",
       "    }\n",
       "\n",
       "    .dataframe tbody tr th {\n",
       "        vertical-align: top;\n",
       "    }\n",
       "\n",
       "    .dataframe thead th {\n",
       "        text-align: right;\n",
       "    }\n",
       "</style>\n",
       "<table border=\"1\" class=\"dataframe\">\n",
       "  <thead>\n",
       "    <tr style=\"text-align: right;\">\n",
       "      <th></th>\n",
       "      <th>ID</th>\n",
       "      <th>Título</th>\n",
       "      <th>Diretor</th>\n",
       "      <th>Gênero</th>\n",
       "      <th>País</th>\n",
       "      <th>Lançamento</th>\n",
       "      <th>Classificação</th>\n",
       "      <th>Duração</th>\n",
       "      <th>IMDB</th>\n",
       "      <th>Tipo</th>\n",
       "    </tr>\n",
       "  </thead>\n",
       "  <tbody>\n",
       "    <tr>\n",
       "      <th>0</th>\n",
       "      <td>cc1b6ed9-cf9e-4057-8303-34577fb54477</td>\n",
       "      <td>(Un)Well</td>\n",
       "      <td>Não Informado</td>\n",
       "      <td>Reality TV</td>\n",
       "      <td>United States</td>\n",
       "      <td>2020-01-01</td>\n",
       "      <td>Orientação dos Responsáveis</td>\n",
       "      <td>1 Season</td>\n",
       "      <td>6.6/10</td>\n",
       "      <td>TV Show</td>\n",
       "    </tr>\n",
       "    <tr>\n",
       "      <th>1</th>\n",
       "      <td>e2ef4e91-fb25-42ab-b485-be8e3b23dedb</td>\n",
       "      <td>Alive</td>\n",
       "      <td>Cho Il</td>\n",
       "      <td>Horror Movies, International Movies, Thrillers</td>\n",
       "      <td>South Korea</td>\n",
       "      <td>2020-01-01</td>\n",
       "      <td>Orientação dos Responsáveis</td>\n",
       "      <td>99 min</td>\n",
       "      <td>6.2/10</td>\n",
       "      <td>Movie</td>\n",
       "    </tr>\n",
       "    <tr>\n",
       "      <th>2</th>\n",
       "      <td>b01b73b7-81f6-47a7-86d8-acb63080d525</td>\n",
       "      <td>AnneFrank - Parallel Stories</td>\n",
       "      <td>Sabina Fedeli, Anna Migotto</td>\n",
       "      <td>Documentaries, International Movies</td>\n",
       "      <td>Italy</td>\n",
       "      <td>2019-01-01</td>\n",
       "      <td>Orientação dos Responsáveis-13</td>\n",
       "      <td>95 min</td>\n",
       "      <td>6.4/10</td>\n",
       "      <td>Movie</td>\n",
       "    </tr>\n",
       "    <tr>\n",
       "      <th>3</th>\n",
       "      <td>b6611af0-f53c-4a08-9ffa-9716dc57eb9c</td>\n",
       "      <td>blackAF</td>\n",
       "      <td>Não Informado</td>\n",
       "      <td>TV Comedies</td>\n",
       "      <td>United States</td>\n",
       "      <td>2020-01-01</td>\n",
       "      <td>Orientação dos Responsáveis</td>\n",
       "      <td>1 Season</td>\n",
       "      <td>6.6/10</td>\n",
       "      <td>TV Show</td>\n",
       "    </tr>\n",
       "    <tr>\n",
       "      <th>4</th>\n",
       "      <td>7f2d4170-bab8-4d75-adc2-197f7124c070</td>\n",
       "      <td>cats_the_mewvie</td>\n",
       "      <td>Michael Margolis</td>\n",
       "      <td>Documentaries, International Movies</td>\n",
       "      <td>Canada</td>\n",
       "      <td>2020-01-01</td>\n",
       "      <td>Orientação dos Responsáveis-13</td>\n",
       "      <td>90 min</td>\n",
       "      <td>5.1/10</td>\n",
       "      <td>Movie</td>\n",
       "    </tr>\n",
       "  </tbody>\n",
       "</table>\n",
       "</div>"
      ],
      "text/plain": [
       "                                     ID                        Título  \\\n",
       "0  cc1b6ed9-cf9e-4057-8303-34577fb54477                      (Un)Well   \n",
       "1  e2ef4e91-fb25-42ab-b485-be8e3b23dedb                         Alive   \n",
       "2  b01b73b7-81f6-47a7-86d8-acb63080d525  AnneFrank - Parallel Stories   \n",
       "3  b6611af0-f53c-4a08-9ffa-9716dc57eb9c                       blackAF   \n",
       "4  7f2d4170-bab8-4d75-adc2-197f7124c070               cats_the_mewvie   \n",
       "\n",
       "                       Diretor  \\\n",
       "0                Não Informado   \n",
       "1                       Cho Il   \n",
       "2  Sabina Fedeli, Anna Migotto   \n",
       "3                Não Informado   \n",
       "4             Michael Margolis   \n",
       "\n",
       "                                           Gênero           País Lançamento  \\\n",
       "0                                      Reality TV  United States 2020-01-01   \n",
       "1  Horror Movies, International Movies, Thrillers    South Korea 2020-01-01   \n",
       "2             Documentaries, International Movies          Italy 2019-01-01   \n",
       "3                                     TV Comedies  United States 2020-01-01   \n",
       "4             Documentaries, International Movies         Canada 2020-01-01   \n",
       "\n",
       "                    Classificação   Duração    IMDB     Tipo  \n",
       "0     Orientação dos Responsáveis  1 Season  6.6/10  TV Show  \n",
       "1     Orientação dos Responsáveis    99 min  6.2/10    Movie  \n",
       "2  Orientação dos Responsáveis-13    95 min  6.4/10    Movie  \n",
       "3     Orientação dos Responsáveis  1 Season  6.6/10  TV Show  \n",
       "4  Orientação dos Responsáveis-13    90 min  5.1/10    Movie  "
      ]
     },
     "execution_count": 40,
     "metadata": {},
     "output_type": "execute_result"
    }
   ],
   "source": [
    "dataset['Classificação'] = dataset['Classificação'].str.replace('TV-MA' or 'PG' or 'TV-Y7','Orientação dos Responsáveis')\n",
    "dataset['Classificação'] = dataset['Classificação'].str.replace('TV-14' or 'PG-13','Orientação dos Responsáveis-13')\n",
    "dataset['Classificação'] = dataset['Classificação'].str.replace('TV-G' or 'G','Todas as Idades')\n",
    "dataset['Classificação'] = dataset['Classificação'].str.replace('TV-PG' or 'R','Restrito')\n",
    "dataset['Classificação'] = dataset['Classificação'].str.replace('TV-Y','Conteúdo infantil')\n",
    "dataset['Classificação'] = dataset['Classificação'].str.replace('NC-17','Apenas adultos')\n",
    "dataset[\"Classificação\"].fillna(\"Não Informada\", inplace=True)\n",
    "dataset.head()\n"
   ]
  },
  {
   "cell_type": "code",
   "execution_count": 41,
   "id": "312f45c7",
   "metadata": {},
   "outputs": [
    {
     "data": {
      "text/plain": [
       "0"
      ]
     },
     "execution_count": 41,
     "metadata": {},
     "output_type": "execute_result"
    }
   ],
   "source": [
    "dataset['Classificação'].isnull().sum()"
   ]
  },
  {
   "cell_type": "markdown",
   "id": "4e065453",
   "metadata": {},
   "source": [
    "## Categoria IMDB"
   ]
  },
  {
   "cell_type": "code",
   "execution_count": 42,
   "id": "9974b4ea",
   "metadata": {},
   "outputs": [
    {
     "data": {
      "text/plain": [
       "count       5359\n",
       "unique        79\n",
       "top       7.1/10\n",
       "freq         233\n",
       "Name: IMDB, dtype: object"
      ]
     },
     "execution_count": 42,
     "metadata": {},
     "output_type": "execute_result"
    }
   ],
   "source": [
    "dataset[\"IMDB\"].describe()"
   ]
  },
  {
   "cell_type": "code",
   "execution_count": 43,
   "id": "3c96247f",
   "metadata": {},
   "outputs": [
    {
     "data": {
      "text/plain": [
       "array(['6.6/10', '6.2/10', '6.4/10', '5.1/10', '7.0/10', '5.8/10',\n",
       "       '6.0/10', '6.1/10', '7.5/10', '5.5/10', '7.6/10', '6.5/10',\n",
       "       '6.7/10', '7.4/10', '7.7/10', '8.3/10', '5.9/10', '6.9/10', nan,\n",
       "       '5.7/10', '7.9/10', '6.8/10', '4.8/10', '8.4/10', '4.7/10',\n",
       "       '3.5/10', '7.2/10', '3.8/10', '4.4/10', '1.9/10', '6.3/10',\n",
       "       '3.2/10', '4.6/10', '5.2/10', '5.3/10', '5.6/10', '4.0/10',\n",
       "       '7.3/10', '5.0/10', '4.5/10', '2.0/10', '8.0/10', '8.8/10',\n",
       "       '8.1/10', '7.8/10', '8.5/10', '5.4/10', '4.9/10', '7.1/10',\n",
       "       '1.3/10', '4.1/10', '8.2/10', '2.8/10', '3.1/10', '2.5/10',\n",
       "       '4.2/10', '2.4/10', '4.3/10', '8.6/10', '3.9/10', '3.0/10',\n",
       "       '8.7/10', '9.0/10', '9.3/10', '2.3/10', '2.6/10', '3.7/10',\n",
       "       '3.4/10', '8.9/10', '3.3/10', '9.4/10', '3.6/10', '9.1/10',\n",
       "       '2.9/10', '2.2/10', '1.8/10', '2.7/10', '2.1/10', '9.2/10',\n",
       "       '1.7/10'], dtype=object)"
      ]
     },
     "execution_count": 43,
     "metadata": {},
     "output_type": "execute_result"
    }
   ],
   "source": [
    "dataset[\"IMDB\"].unique()"
   ]
  },
  {
   "cell_type": "code",
   "execution_count": 44,
   "id": "3d5e993d",
   "metadata": {},
   "outputs": [
    {
     "data": {
      "text/plain": [
       "array(['6.6', '6.2', '6.4', '5.1', '7.0', '5.8', '6.0', '6.1', '7.5',\n",
       "       '5.5', '7.6', '6.5', '6.7', '7.4', '7.7', '8.3', '5.9', '6.9', nan,\n",
       "       '5.7', '7.9', '6.8', '4.8', '8.4', '4.7', '3.5', '7.2', '3.8',\n",
       "       '4.4', '1.9', '6.3', '3.2', '4.6', '5.2', '5.3', '5.6', '4.0',\n",
       "       '7.3', '5.0', '4.5', '2.0', '8.0', '8.8', '8.1', '7.8', '8.5',\n",
       "       '5.4', '4.9', '7.1', '1.3', '4.1', '8.2', '2.8', '3.1', '2.5',\n",
       "       '4.2', '2.4', '4.3', '8.6', '3.9', '3.0', '8.7', '9.0', '9.3',\n",
       "       '2.3', '2.6', '3.7', '3.4', '8.9', '3.3', '9.4', '3.6', '9.1',\n",
       "       '2.9', '2.2', '1.8', '2.7', '2.1', '9.2', '1.7'], dtype=object)"
      ]
     },
     "execution_count": 44,
     "metadata": {},
     "output_type": "execute_result"
    }
   ],
   "source": [
    "dataset['IMDB'] = dataset['IMDB'].str.replace('/10','')\n",
    "dataset[\"IMDB\"].unique()"
   ]
  },
  {
   "cell_type": "code",
   "execution_count": 45,
   "id": "b3e0fdf9",
   "metadata": {},
   "outputs": [
    {
     "name": "stdout",
     "output_type": "stream",
     "text": [
      "<class 'pandas.core.frame.DataFrame'>\n",
      "RangeIndex: 5967 entries, 0 to 5966\n",
      "Data columns (total 10 columns):\n",
      " #   Column         Non-Null Count  Dtype         \n",
      "---  ------         --------------  -----         \n",
      " 0   ID             5967 non-null   object        \n",
      " 1   Título         5967 non-null   object        \n",
      " 2   Diretor        5967 non-null   object        \n",
      " 3   Gênero         5967 non-null   object        \n",
      " 4   País           5967 non-null   object        \n",
      " 5   Lançamento     5967 non-null   datetime64[ns]\n",
      " 6   Classificação  5967 non-null   object        \n",
      " 7   Duração        5964 non-null   object        \n",
      " 8   IMDB           5359 non-null   float64       \n",
      " 9   Tipo           5967 non-null   object        \n",
      "dtypes: datetime64[ns](1), float64(1), object(8)\n",
      "memory usage: 466.3+ KB\n"
     ]
    }
   ],
   "source": [
    "dataset['IMDB'] = pd.to_numeric(dataset['IMDB'],errors = 'coerce')\n",
    "dataset.info()"
   ]
  },
  {
   "cell_type": "raw",
   "id": "3e64bb66",
   "metadata": {},
   "source": [
    "Retirando Filmes e Series que não tem nota IMDB"
   ]
  },
  {
   "cell_type": "code",
   "execution_count": 46,
   "id": "b09dac8d",
   "metadata": {},
   "outputs": [
    {
     "data": {
      "text/plain": [
       "608"
      ]
     },
     "execution_count": 46,
     "metadata": {},
     "output_type": "execute_result"
    }
   ],
   "source": [
    "dataset['IMDB'].isnull().sum()"
   ]
  },
  {
   "cell_type": "code",
   "execution_count": 47,
   "id": "d91ea7df",
   "metadata": {},
   "outputs": [
    {
     "data": {
      "text/plain": [
       "count    5359.000000\n",
       "mean        6.558985\n",
       "std         1.173941\n",
       "min         1.300000\n",
       "25%         5.900000\n",
       "50%         6.700000\n",
       "75%         7.400000\n",
       "max         9.400000\n",
       "Name: IMDB, dtype: float64"
      ]
     },
     "execution_count": 47,
     "metadata": {},
     "output_type": "execute_result"
    }
   ],
   "source": [
    "# Excluindo linha que não tem nota\n",
    "dataset = dataset[dataset['IMDB'].notna()]\n",
    "dataset[\"IMDB\"].describe()"
   ]
  },
  {
   "cell_type": "code",
   "execution_count": 48,
   "id": "34a5dfe6",
   "metadata": {},
   "outputs": [
    {
     "data": {
      "text/plain": [
       "0"
      ]
     },
     "execution_count": 48,
     "metadata": {},
     "output_type": "execute_result"
    }
   ],
   "source": [
    "dataset['IMDB'].isnull().sum()"
   ]
  },
  {
   "cell_type": "code",
   "execution_count": 49,
   "id": "de083601",
   "metadata": {},
   "outputs": [
    {
     "name": "stdout",
     "output_type": "stream",
     "text": [
      "A Mediana é 6.7 e a Media é 6.558984885239767\n"
     ]
    }
   ],
   "source": [
    "a = dataset['IMDB'].median()\n",
    "b = dataset['IMDB'].mean()\n",
    "print(\"A Mediana é {} e a Media é {}\".format(a,b))"
   ]
  },
  {
   "cell_type": "code",
   "execution_count": 50,
   "id": "13f66dd4",
   "metadata": {},
   "outputs": [
    {
     "data": {
      "text/plain": [
       "Text(0.5, 0, 'Nota')"
      ]
     },
     "execution_count": 50,
     "metadata": {},
     "output_type": "execute_result"
    },
    {
     "data": {
      "image/png": "[encoded data removed]",
      "text/plain": [
       "<Figure size 432x288 with 1 Axes>"
      ]
     },
     "metadata": {
      "needs_background": "light"
     },
     "output_type": "display_data"
    }
   ],
   "source": [
    "# Histograma com a duração das Filmes (Duração)\n",
    "dataset['IMDB'].plot(kind='hist')\n",
    "plt.title('')\n",
    "plt.ylabel('Frequência')\n",
    "plt.xlabel('Nota')"
   ]
  },
  {
   "cell_type": "code",
   "execution_count": 51,
   "id": "88e00d04",
   "metadata": {},
   "outputs": [
    {
     "name": "stderr",
     "output_type": "stream",
     "text": [
      "C:\\Users\\PC\\anaconda3\\lib\\site-packages\\seaborn\\distributions.py:2619: FutureWarning: `distplot` is a deprecated function and will be removed in a future version. Please adapt your code to use either `displot` (a figure-level function with similar flexibility) or `histplot` (an axes-level function for histograms).\n",
      "  warnings.warn(msg, FutureWarning)\n"
     ]
    },
    {
     "data": {
      "text/plain": [
       "<AxesSubplot:xlabel='IMDB', ylabel='Density'>"
      ]
     },
     "execution_count": 51,
     "metadata": {},
     "output_type": "execute_result"
    },
    {
     "data": {
      "image/png": "[encoded data removed]",
      "text/plain": [
       "<Figure size 432x288 with 1 Axes>"
      ]
     },
     "metadata": {
      "needs_background": "light"
     },
     "output_type": "display_data"
    }
   ],
   "source": [
    "#densidade e histograma\n",
    "srn.distplot(dataset['IMDB'], hist = True, kde = True,\n",
    "             bins = 6, color = 'blue',\n",
    "             hist_kws={'edgecolor': 'black'})"
   ]
  },
  {
   "cell_type": "markdown",
   "id": "9642b5ec",
   "metadata": {},
   "source": [
    "## Dividindo a tabela por Tipo e resetando o index - Filmes e Series"
   ]
  },
  {
   "cell_type": "code",
   "execution_count": 52,
   "id": "60462639",
   "metadata": {},
   "outputs": [
    {
     "data": {
      "text/plain": [
       "array(['TV Show', 'Movie'], dtype=object)"
      ]
     },
     "execution_count": 52,
     "metadata": {},
     "output_type": "execute_result"
    }
   ],
   "source": [
    "dataset[\"Tipo\"].unique()"
   ]
  },
  {
   "cell_type": "code",
   "execution_count": 53,
   "id": "b074fc8c",
   "metadata": {},
   "outputs": [],
   "source": [
    "#Dividindo a Tabela por Tipo\n",
    "series = dataset[dataset['Tipo'].str.contains('TV Show')]\n",
    "filmes = dataset[dataset['Tipo'].str.contains('Movie')]"
   ]
  },
  {
   "cell_type": "code",
   "execution_count": 54,
   "id": "14df725d",
   "metadata": {},
   "outputs": [],
   "source": [
    "#Reset no index das duas novas tabelas\n",
    "filmes = filmes.reset_index(drop=True)\n",
    "series = series.reset_index(drop=True)"
   ]
  },
  {
   "cell_type": "code",
   "execution_count": 55,
   "id": "b469d3cc",
   "metadata": {},
   "outputs": [
    {
     "data": {
      "text/html": [
       "<div>\n",
       "<style scoped>\n",
       "    .dataframe tbody tr th:only-of-type {\n",
       "        vertical-align: middle;\n",
       "    }\n",
       "\n",
       "    .dataframe tbody tr th {\n",
       "        vertical-align: top;\n",
       "    }\n",
       "\n",
       "    .dataframe thead th {\n",
       "        text-align: right;\n",
       "    }\n",
       "</style>\n",
       "<table border=\"1\" class=\"dataframe\">\n",
       "  <thead>\n",
       "    <tr style=\"text-align: right;\">\n",
       "      <th></th>\n",
       "      <th>ID</th>\n",
       "      <th>Título</th>\n",
       "      <th>Diretor</th>\n",
       "      <th>Gênero</th>\n",
       "      <th>País</th>\n",
       "      <th>Lançamento</th>\n",
       "      <th>Classificação</th>\n",
       "      <th>Duração</th>\n",
       "      <th>IMDB</th>\n",
       "      <th>Tipo</th>\n",
       "    </tr>\n",
       "  </thead>\n",
       "  <tbody>\n",
       "    <tr>\n",
       "      <th>0</th>\n",
       "      <td>e2ef4e91-fb25-42ab-b485-be8e3b23dedb</td>\n",
       "      <td>Alive</td>\n",
       "      <td>Cho Il</td>\n",
       "      <td>Horror Movies, International Movies, Thrillers</td>\n",
       "      <td>South Korea</td>\n",
       "      <td>2020-01-01</td>\n",
       "      <td>Orientação dos Responsáveis</td>\n",
       "      <td>99 min</td>\n",
       "      <td>6.2</td>\n",
       "      <td>Movie</td>\n",
       "    </tr>\n",
       "    <tr>\n",
       "      <th>1</th>\n",
       "      <td>b01b73b7-81f6-47a7-86d8-acb63080d525</td>\n",
       "      <td>AnneFrank - Parallel Stories</td>\n",
       "      <td>Sabina Fedeli, Anna Migotto</td>\n",
       "      <td>Documentaries, International Movies</td>\n",
       "      <td>Italy</td>\n",
       "      <td>2019-01-01</td>\n",
       "      <td>Orientação dos Responsáveis-13</td>\n",
       "      <td>95 min</td>\n",
       "      <td>6.4</td>\n",
       "      <td>Movie</td>\n",
       "    </tr>\n",
       "  </tbody>\n",
       "</table>\n",
       "</div>"
      ],
      "text/plain": [
       "                                     ID                        Título  \\\n",
       "0  e2ef4e91-fb25-42ab-b485-be8e3b23dedb                         Alive   \n",
       "1  b01b73b7-81f6-47a7-86d8-acb63080d525  AnneFrank - Parallel Stories   \n",
       "\n",
       "                       Diretor  \\\n",
       "0                       Cho Il   \n",
       "1  Sabina Fedeli, Anna Migotto   \n",
       "\n",
       "                                           Gênero         País Lançamento  \\\n",
       "0  Horror Movies, International Movies, Thrillers  South Korea 2020-01-01   \n",
       "1             Documentaries, International Movies        Italy 2019-01-01   \n",
       "\n",
       "                    Classificação Duração  IMDB   Tipo  \n",
       "0     Orientação dos Responsáveis  99 min   6.2  Movie  \n",
       "1  Orientação dos Responsáveis-13  95 min   6.4  Movie  "
      ]
     },
     "execution_count": 55,
     "metadata": {},
     "output_type": "execute_result"
    }
   ],
   "source": [
    "filmes.head(2)"
   ]
  },
  {
   "cell_type": "code",
   "execution_count": 56,
   "id": "07041661",
   "metadata": {},
   "outputs": [
    {
     "data": {
      "text/html": [
       "<div>\n",
       "<style scoped>\n",
       "    .dataframe tbody tr th:only-of-type {\n",
       "        vertical-align: middle;\n",
       "    }\n",
       "\n",
       "    .dataframe tbody tr th {\n",
       "        vertical-align: top;\n",
       "    }\n",
       "\n",
       "    .dataframe thead th {\n",
       "        text-align: right;\n",
       "    }\n",
       "</style>\n",
       "<table border=\"1\" class=\"dataframe\">\n",
       "  <thead>\n",
       "    <tr style=\"text-align: right;\">\n",
       "      <th></th>\n",
       "      <th>ID</th>\n",
       "      <th>Título</th>\n",
       "      <th>Diretor</th>\n",
       "      <th>Gênero</th>\n",
       "      <th>País</th>\n",
       "      <th>Lançamento</th>\n",
       "      <th>Classificação</th>\n",
       "      <th>Duração</th>\n",
       "      <th>IMDB</th>\n",
       "      <th>Tipo</th>\n",
       "    </tr>\n",
       "  </thead>\n",
       "  <tbody>\n",
       "    <tr>\n",
       "      <th>0</th>\n",
       "      <td>cc1b6ed9-cf9e-4057-8303-34577fb54477</td>\n",
       "      <td>(Un)Well</td>\n",
       "      <td>Não Informado</td>\n",
       "      <td>Reality TV</td>\n",
       "      <td>United States</td>\n",
       "      <td>2020-01-01</td>\n",
       "      <td>Orientação dos Responsáveis</td>\n",
       "      <td>1 Season</td>\n",
       "      <td>6.6</td>\n",
       "      <td>TV Show</td>\n",
       "    </tr>\n",
       "    <tr>\n",
       "      <th>1</th>\n",
       "      <td>b6611af0-f53c-4a08-9ffa-9716dc57eb9c</td>\n",
       "      <td>blackAF</td>\n",
       "      <td>Não Informado</td>\n",
       "      <td>TV Comedies</td>\n",
       "      <td>United States</td>\n",
       "      <td>2020-01-01</td>\n",
       "      <td>Orientação dos Responsáveis</td>\n",
       "      <td>1 Season</td>\n",
       "      <td>6.6</td>\n",
       "      <td>TV Show</td>\n",
       "    </tr>\n",
       "  </tbody>\n",
       "</table>\n",
       "</div>"
      ],
      "text/plain": [
       "                                     ID    Título        Diretor       Gênero  \\\n",
       "0  cc1b6ed9-cf9e-4057-8303-34577fb54477  (Un)Well  Não Informado   Reality TV   \n",
       "1  b6611af0-f53c-4a08-9ffa-9716dc57eb9c   blackAF  Não Informado  TV Comedies   \n",
       "\n",
       "            País Lançamento                Classificação   Duração  IMDB  \\\n",
       "0  United States 2020-01-01  Orientação dos Responsáveis  1 Season   6.6   \n",
       "1  United States 2020-01-01  Orientação dos Responsáveis  1 Season   6.6   \n",
       "\n",
       "      Tipo  \n",
       "0  TV Show  \n",
       "1  TV Show  "
      ]
     },
     "execution_count": 56,
     "metadata": {},
     "output_type": "execute_result"
    }
   ],
   "source": [
    "series.head(2)"
   ]
  },
  {
   "cell_type": "markdown",
   "id": "b7f4beb8",
   "metadata": {},
   "source": [
    "## Categoria Duração - tabela filme"
   ]
  },
  {
   "cell_type": "code",
   "execution_count": 57,
   "id": "af8fc4e3",
   "metadata": {},
   "outputs": [
    {
     "data": {
      "text/plain": [
       "0     99 min\n",
       "1     95 min\n",
       "2     90 min\n",
       "3    102 min\n",
       "4    104 min\n",
       "Name: Duração, dtype: object"
      ]
     },
     "execution_count": 57,
     "metadata": {},
     "output_type": "execute_result"
    }
   ],
   "source": [
    "filmes['Duração'].head()"
   ]
  },
  {
   "cell_type": "code",
   "execution_count": 58,
   "id": "cc17edde",
   "metadata": {},
   "outputs": [
    {
     "data": {
      "text/plain": [
       "0"
      ]
     },
     "execution_count": 58,
     "metadata": {},
     "output_type": "execute_result"
    }
   ],
   "source": [
    "filmes['Duração'].isnull().sum()"
   ]
  },
  {
   "cell_type": "code",
   "execution_count": 59,
   "id": "903cea0e",
   "metadata": {},
   "outputs": [],
   "source": [
    "filmes['Duração'] = filmes['Duração'].str.replace('min','')"
   ]
  },
  {
   "cell_type": "code",
   "execution_count": 60,
   "id": "e0a68a72",
   "metadata": {},
   "outputs": [
    {
     "name": "stdout",
     "output_type": "stream",
     "text": [
      "<class 'pandas.core.frame.DataFrame'>\n",
      "RangeIndex: 3551 entries, 0 to 3550\n",
      "Data columns (total 10 columns):\n",
      " #   Column         Non-Null Count  Dtype         \n",
      "---  ------         --------------  -----         \n",
      " 0   ID             3551 non-null   object        \n",
      " 1   Título         3551 non-null   object        \n",
      " 2   Diretor        3551 non-null   object        \n",
      " 3   Gênero         3551 non-null   object        \n",
      " 4   País           3551 non-null   object        \n",
      " 5   Lançamento     3551 non-null   datetime64[ns]\n",
      " 6   Classificação  3551 non-null   object        \n",
      " 7   Duração        3551 non-null   object        \n",
      " 8   IMDB           3551 non-null   float64       \n",
      " 9   Tipo           3551 non-null   object        \n",
      "dtypes: datetime64[ns](1), float64(1), object(8)\n",
      "memory usage: 277.5+ KB\n"
     ]
    }
   ],
   "source": [
    "filmes.info()"
   ]
  },
  {
   "cell_type": "code",
   "execution_count": 61,
   "id": "ee1aec05",
   "metadata": {},
   "outputs": [
    {
     "name": "stdout",
     "output_type": "stream",
     "text": [
      "<class 'pandas.core.frame.DataFrame'>\n",
      "RangeIndex: 3551 entries, 0 to 3550\n",
      "Data columns (total 10 columns):\n",
      " #   Column         Non-Null Count  Dtype         \n",
      "---  ------         --------------  -----         \n",
      " 0   ID             3551 non-null   object        \n",
      " 1   Título         3551 non-null   object        \n",
      " 2   Diretor        3551 non-null   object        \n",
      " 3   Gênero         3551 non-null   object        \n",
      " 4   País           3551 non-null   object        \n",
      " 5   Lançamento     3551 non-null   datetime64[ns]\n",
      " 6   Classificação  3551 non-null   object        \n",
      " 7   Duração        3551 non-null   int64         \n",
      " 8   IMDB           3551 non-null   float64       \n",
      " 9   Tipo           3551 non-null   object        \n",
      "dtypes: datetime64[ns](1), float64(1), int64(1), object(7)\n",
      "memory usage: 277.5+ KB\n"
     ]
    }
   ],
   "source": [
    "filmes['Duração'] = pd.to_numeric(filmes['Duração'],errors = 'coerce')\n",
    "filmes.info()"
   ]
  },
  {
   "cell_type": "code",
   "execution_count": 62,
   "id": "21d382ad",
   "metadata": {},
   "outputs": [
    {
     "name": "stdout",
     "output_type": "stream",
     "text": [
      "A Mediana é 99.0 e a Media é 100.04139678963672\n"
     ]
    }
   ],
   "source": [
    "a = filmes['Duração'].median()\n",
    "b = filmes['Duração'].mean()\n",
    "print(\"A Mediana é {} e a Media é {}\".format(a,b))"
   ]
  },
  {
   "cell_type": "code",
   "execution_count": 63,
   "id": "42bbd27e",
   "metadata": {},
   "outputs": [
    {
     "data": {
      "text/plain": [
       "count    3551.000000\n",
       "mean      100.041397\n",
       "std        28.071091\n",
       "min         3.000000\n",
       "25%        87.000000\n",
       "50%        99.000000\n",
       "75%       115.000000\n",
       "max       312.000000\n",
       "Name: Duração, dtype: float64"
      ]
     },
     "execution_count": 63,
     "metadata": {},
     "output_type": "execute_result"
    }
   ],
   "source": [
    "filmes['Duração'].describe()"
   ]
  },
  {
   "cell_type": "code",
   "execution_count": 64,
   "id": "416e7425",
   "metadata": {},
   "outputs": [
    {
     "data": {
      "text/plain": [
       "(array([  88,  259, 1145, 1531,  433,   81,   10,    2,    1,    1],\n",
       "       dtype=int64),\n",
       " array([  3. ,  33.9,  64.8,  95.7, 126.6, 157.5, 188.4, 219.3, 250.2,\n",
       "        281.1, 312. ]))"
      ]
     },
     "execution_count": 64,
     "metadata": {},
     "output_type": "execute_result"
    }
   ],
   "source": [
    "h = np.histogram(filmes[\"Duração\"])\n",
    "h"
   ]
  },
  {
   "cell_type": "code",
   "execution_count": 65,
   "id": "fba78bf3",
   "metadata": {},
   "outputs": [
    {
     "data": {
      "text/plain": [
       "Text(0.5, 0, 'Duração')"
      ]
     },
     "execution_count": 65,
     "metadata": {},
     "output_type": "execute_result"
    },
    {
     "data": {
      "image/png": "[encoded data removed]",
      "text/plain": [
       "<Figure size 432x288 with 1 Axes>"
      ]
     },
     "metadata": {
      "needs_background": "light"
     },
     "output_type": "display_data"
    }
   ],
   "source": [
    "# Histograma com a duração das Filmes (Duração)\n",
    "filmes['Duração'].plot(kind='hist')\n",
    "plt.title('')\n",
    "plt.ylabel('Frequência')\n",
    "plt.xlabel('Duração')"
   ]
  },
  {
   "cell_type": "code",
   "execution_count": 66,
   "id": "39c37a7b",
   "metadata": {},
   "outputs": [
    {
     "name": "stderr",
     "output_type": "stream",
     "text": [
      "C:\\Users\\PC\\anaconda3\\lib\\site-packages\\seaborn\\distributions.py:2619: FutureWarning: `distplot` is a deprecated function and will be removed in a future version. Please adapt your code to use either `displot` (a figure-level function with similar flexibility) or `histplot` (an axes-level function for histograms).\n",
      "  warnings.warn(msg, FutureWarning)\n"
     ]
    },
    {
     "data": {
      "text/plain": [
       "Text(0.5, 1.0, 'Duração')"
      ]
     },
     "execution_count": 66,
     "metadata": {},
     "output_type": "execute_result"
    },
    {
     "data": {
      "image/png": "[encoded data removed]",
      "text/plain": [
       "<Figure size 432x288 with 1 Axes>"
      ]
     },
     "metadata": {
      "needs_background": "light"
     },
     "output_type": "display_data"
    }
   ],
   "source": [
    "srn.distplot(filmes['Duração'], bins = 10, axlabel = 'Anos').set_title('Duração')"
   ]
  },
  {
   "cell_type": "code",
   "execution_count": 67,
   "id": "a3576847",
   "metadata": {},
   "outputs": [
    {
     "name": "stderr",
     "output_type": "stream",
     "text": [
      "C:\\Users\\PC\\anaconda3\\lib\\site-packages\\seaborn\\_decorators.py:36: FutureWarning: Pass the following variable as a keyword arg: x. From version 0.12, the only valid positional argument will be `data`, and passing other arguments without an explicit keyword will result in an error or misinterpretation.\n",
      "  warnings.warn(\n"
     ]
    },
    {
     "data": {
      "text/plain": [
       "<AxesSubplot:xlabel='Duração'>"
      ]
     },
     "execution_count": 67,
     "metadata": {},
     "output_type": "execute_result"
    },
    {
     "data": {
      "image/png": "[encoded data removed]",
      "text/plain": [
       "<Figure size 432x288 with 1 Axes>"
      ]
     },
     "metadata": {
      "needs_background": "light"
     },
     "output_type": "display_data"
    }
   ],
   "source": [
    "# Verificando como está distribuida as Durações com BOXPLOT\n",
    "srn.boxplot(filmes['Duração'])"
   ]
  },
  {
   "cell_type": "code",
   "execution_count": 68,
   "id": "86676802",
   "metadata": {},
   "outputs": [
    {
     "name": "stderr",
     "output_type": "stream",
     "text": [
      "C:\\Users\\PC\\anaconda3\\lib\\site-packages\\seaborn\\_decorators.py:36: FutureWarning: Pass the following variables as keyword args: x, y. From version 0.12, the only valid positional argument will be `data`, and passing other arguments without an explicit keyword will result in an error or misinterpretation.\n",
      "  warnings.warn(\n"
     ]
    },
    {
     "data": {
      "text/plain": [
       "<AxesSubplot:xlabel='Lançamento', ylabel='Duração'>"
      ]
     },
     "execution_count": 68,
     "metadata": {},
     "output_type": "execute_result"
    },
    {
     "data": {
      "image/png": "[encoded data removed]",
      "text/plain": [
       "<Figure size 432x288 with 1 Axes>"
      ]
     },
     "metadata": {
      "needs_background": "light"
     },
     "output_type": "display_data"
    }
   ],
   "source": [
    "# Gráfico de dispersão utilizando os atributos Lançamento e Duração, agrupamento pelo Tipo\n",
    "srn.scatterplot(filmes['Lançamento'], filmes['Duração'], hue = filmes[\"Tipo\"])"
   ]
  },
  {
   "cell_type": "markdown",
   "id": "ebdcf24e",
   "metadata": {},
   "source": [
    "## Unindo novamente as tabelas"
   ]
  },
  {
   "cell_type": "code",
   "execution_count": 69,
   "id": "ab8997df",
   "metadata": {},
   "outputs": [],
   "source": [
    "dataset = pd.concat([filmes, series])"
   ]
  },
  {
   "cell_type": "code",
   "execution_count": 70,
   "id": "07836380",
   "metadata": {},
   "outputs": [
    {
     "data": {
      "text/html": [
       "<div>\n",
       "<style scoped>\n",
       "    .dataframe tbody tr th:only-of-type {\n",
       "        vertical-align: middle;\n",
       "    }\n",
       "\n",
       "    .dataframe tbody tr th {\n",
       "        vertical-align: top;\n",
       "    }\n",
       "\n",
       "    .dataframe thead th {\n",
       "        text-align: right;\n",
       "    }\n",
       "</style>\n",
       "<table border=\"1\" class=\"dataframe\">\n",
       "  <thead>\n",
       "    <tr style=\"text-align: right;\">\n",
       "      <th></th>\n",
       "      <th>ID</th>\n",
       "      <th>Título</th>\n",
       "      <th>Diretor</th>\n",
       "      <th>Gênero</th>\n",
       "      <th>País</th>\n",
       "      <th>Lançamento</th>\n",
       "      <th>Classificação</th>\n",
       "      <th>Duração</th>\n",
       "      <th>IMDB</th>\n",
       "      <th>Tipo</th>\n",
       "    </tr>\n",
       "  </thead>\n",
       "  <tbody>\n",
       "    <tr>\n",
       "      <th>0</th>\n",
       "      <td>e2ef4e91-fb25-42ab-b485-be8e3b23dedb</td>\n",
       "      <td>Alive</td>\n",
       "      <td>Cho Il</td>\n",
       "      <td>Horror Movies, International Movies, Thrillers</td>\n",
       "      <td>South Korea</td>\n",
       "      <td>2020-01-01</td>\n",
       "      <td>Orientação dos Responsáveis</td>\n",
       "      <td>99</td>\n",
       "      <td>6.2</td>\n",
       "      <td>Movie</td>\n",
       "    </tr>\n",
       "    <tr>\n",
       "      <th>1</th>\n",
       "      <td>b01b73b7-81f6-47a7-86d8-acb63080d525</td>\n",
       "      <td>AnneFrank - Parallel Stories</td>\n",
       "      <td>Sabina Fedeli, Anna Migotto</td>\n",
       "      <td>Documentaries, International Movies</td>\n",
       "      <td>Italy</td>\n",
       "      <td>2019-01-01</td>\n",
       "      <td>Orientação dos Responsáveis-13</td>\n",
       "      <td>95</td>\n",
       "      <td>6.4</td>\n",
       "      <td>Movie</td>\n",
       "    </tr>\n",
       "    <tr>\n",
       "      <th>2</th>\n",
       "      <td>7f2d4170-bab8-4d75-adc2-197f7124c070</td>\n",
       "      <td>cats_the_mewvie</td>\n",
       "      <td>Michael Margolis</td>\n",
       "      <td>Documentaries, International Movies</td>\n",
       "      <td>Canada</td>\n",
       "      <td>2020-01-01</td>\n",
       "      <td>Orientação dos Responsáveis-13</td>\n",
       "      <td>90</td>\n",
       "      <td>5.1</td>\n",
       "      <td>Movie</td>\n",
       "    </tr>\n",
       "    <tr>\n",
       "      <th>3</th>\n",
       "      <td>c293788a-41f7-49a3-a7fc-005ea33bce2b</td>\n",
       "      <td>FriendButMarried</td>\n",
       "      <td>Rako Prijanto</td>\n",
       "      <td>Dramas, International Movies, Romantic Movies</td>\n",
       "      <td>Indonesia</td>\n",
       "      <td>2018-01-01</td>\n",
       "      <td>Todas as Idades</td>\n",
       "      <td>102</td>\n",
       "      <td>7.0</td>\n",
       "      <td>Movie</td>\n",
       "    </tr>\n",
       "    <tr>\n",
       "      <th>4</th>\n",
       "      <td>0555e67e-f624-4a05-93e4-55c117d0056d</td>\n",
       "      <td>FriendButMarried 2</td>\n",
       "      <td>Rako Prijanto</td>\n",
       "      <td>Dramas, International Movies, Romantic Movies</td>\n",
       "      <td>Indonesia</td>\n",
       "      <td>2020-01-01</td>\n",
       "      <td>Todas as Idades</td>\n",
       "      <td>104</td>\n",
       "      <td>7.0</td>\n",
       "      <td>Movie</td>\n",
       "    </tr>\n",
       "    <tr>\n",
       "      <th>...</th>\n",
       "      <td>...</td>\n",
       "      <td>...</td>\n",
       "      <td>...</td>\n",
       "      <td>...</td>\n",
       "      <td>...</td>\n",
       "      <td>...</td>\n",
       "      <td>...</td>\n",
       "      <td>...</td>\n",
       "      <td>...</td>\n",
       "      <td>...</td>\n",
       "    </tr>\n",
       "    <tr>\n",
       "      <th>1803</th>\n",
       "      <td>1952fb4f-8a01-4fd6-adba-0d1600778f90</td>\n",
       "      <td>Zig &amp; Sharko</td>\n",
       "      <td>Não Informado</td>\n",
       "      <td>Kids' TV, TV Comedies</td>\n",
       "      <td>France</td>\n",
       "      <td>2019-01-01</td>\n",
       "      <td>Conteúdo infantil7</td>\n",
       "      <td>2 Seasons</td>\n",
       "      <td>7.0</td>\n",
       "      <td>TV Show</td>\n",
       "    </tr>\n",
       "    <tr>\n",
       "      <th>1804</th>\n",
       "      <td>d143fc8e-0470-4dc8-a65f-5dc59370d776</td>\n",
       "      <td>Zindagi in Short</td>\n",
       "      <td>Não Informado</td>\n",
       "      <td>International TV Shows, TV Dramas</td>\n",
       "      <td>India</td>\n",
       "      <td>2020-01-01</td>\n",
       "      <td>Orientação dos Responsáveis</td>\n",
       "      <td>1 Season</td>\n",
       "      <td>7.3</td>\n",
       "      <td>TV Show</td>\n",
       "    </tr>\n",
       "    <tr>\n",
       "      <th>1805</th>\n",
       "      <td>e4d88cc9-8ee2-46b9-aac6-af786e6efbdb</td>\n",
       "      <td>Zona Rosa</td>\n",
       "      <td>Não Informado</td>\n",
       "      <td>International TV Shows, Spanish-Language TV Sh...</td>\n",
       "      <td>Mexico</td>\n",
       "      <td>2019-01-01</td>\n",
       "      <td>Orientação dos Responsáveis</td>\n",
       "      <td>1 Season</td>\n",
       "      <td>5.7</td>\n",
       "      <td>TV Show</td>\n",
       "    </tr>\n",
       "    <tr>\n",
       "      <th>1806</th>\n",
       "      <td>80bf7986-5698-4d01-bc52-e08a8210b834</td>\n",
       "      <td>Zoo</td>\n",
       "      <td>Não Informado</td>\n",
       "      <td>TV Dramas, TV Mysteries, TV Sci-Fi &amp; Fantasy</td>\n",
       "      <td>United States</td>\n",
       "      <td>2017-01-01</td>\n",
       "      <td>Orientação dos Responsáveis-13</td>\n",
       "      <td>3 Seasons</td>\n",
       "      <td>6.6</td>\n",
       "      <td>TV Show</td>\n",
       "    </tr>\n",
       "    <tr>\n",
       "      <th>1807</th>\n",
       "      <td>a86d832c-1082-4b10-82a3-766bb539e3aa</td>\n",
       "      <td>Zumbo's Just Desserts</td>\n",
       "      <td>Não Informado</td>\n",
       "      <td>International TV Shows, Reality TV</td>\n",
       "      <td>Australia</td>\n",
       "      <td>2019-01-01</td>\n",
       "      <td>Restrito</td>\n",
       "      <td>1 Season</td>\n",
       "      <td>7.1</td>\n",
       "      <td>TV Show</td>\n",
       "    </tr>\n",
       "  </tbody>\n",
       "</table>\n",
       "<p>5359 rows × 10 columns</p>\n",
       "</div>"
      ],
      "text/plain": [
       "                                        ID                        Título  \\\n",
       "0     e2ef4e91-fb25-42ab-b485-be8e3b23dedb                         Alive   \n",
       "1     b01b73b7-81f6-47a7-86d8-acb63080d525  AnneFrank - Parallel Stories   \n",
       "2     7f2d4170-bab8-4d75-adc2-197f7124c070               cats_the_mewvie   \n",
       "3     c293788a-41f7-49a3-a7fc-005ea33bce2b              FriendButMarried   \n",
       "4     0555e67e-f624-4a05-93e4-55c117d0056d            FriendButMarried 2   \n",
       "...                                    ...                           ...   \n",
       "1803  1952fb4f-8a01-4fd6-adba-0d1600778f90                  Zig & Sharko   \n",
       "1804  d143fc8e-0470-4dc8-a65f-5dc59370d776              Zindagi in Short   \n",
       "1805  e4d88cc9-8ee2-46b9-aac6-af786e6efbdb                     Zona Rosa   \n",
       "1806  80bf7986-5698-4d01-bc52-e08a8210b834                           Zoo   \n",
       "1807  a86d832c-1082-4b10-82a3-766bb539e3aa         Zumbo's Just Desserts   \n",
       "\n",
       "                          Diretor  \\\n",
       "0                          Cho Il   \n",
       "1     Sabina Fedeli, Anna Migotto   \n",
       "2                Michael Margolis   \n",
       "3                   Rako Prijanto   \n",
       "4                   Rako Prijanto   \n",
       "...                           ...   \n",
       "1803                Não Informado   \n",
       "1804                Não Informado   \n",
       "1805                Não Informado   \n",
       "1806                Não Informado   \n",
       "1807                Não Informado   \n",
       "\n",
       "                                                 Gênero           País  \\\n",
       "0        Horror Movies, International Movies, Thrillers    South Korea   \n",
       "1                   Documentaries, International Movies          Italy   \n",
       "2                   Documentaries, International Movies         Canada   \n",
       "3         Dramas, International Movies, Romantic Movies      Indonesia   \n",
       "4         Dramas, International Movies, Romantic Movies      Indonesia   \n",
       "...                                                 ...            ...   \n",
       "1803                              Kids' TV, TV Comedies         France   \n",
       "1804                  International TV Shows, TV Dramas          India   \n",
       "1805  International TV Shows, Spanish-Language TV Sh...         Mexico   \n",
       "1806       TV Dramas, TV Mysteries, TV Sci-Fi & Fantasy  United States   \n",
       "1807                 International TV Shows, Reality TV      Australia   \n",
       "\n",
       "     Lançamento                   Classificação    Duração  IMDB     Tipo  \n",
       "0    2020-01-01     Orientação dos Responsáveis         99   6.2    Movie  \n",
       "1    2019-01-01  Orientação dos Responsáveis-13         95   6.4    Movie  \n",
       "2    2020-01-01  Orientação dos Responsáveis-13         90   5.1    Movie  \n",
       "3    2018-01-01                 Todas as Idades        102   7.0    Movie  \n",
       "4    2020-01-01                 Todas as Idades        104   7.0    Movie  \n",
       "...         ...                             ...        ...   ...      ...  \n",
       "1803 2019-01-01              Conteúdo infantil7  2 Seasons   7.0  TV Show  \n",
       "1804 2020-01-01     Orientação dos Responsáveis   1 Season   7.3  TV Show  \n",
       "1805 2019-01-01     Orientação dos Responsáveis   1 Season   5.7  TV Show  \n",
       "1806 2017-01-01  Orientação dos Responsáveis-13  3 Seasons   6.6  TV Show  \n",
       "1807 2019-01-01                        Restrito   1 Season   7.1  TV Show  \n",
       "\n",
       "[5359 rows x 10 columns]"
      ]
     },
     "execution_count": 70,
     "metadata": {},
     "output_type": "execute_result"
    }
   ],
   "source": [
    "dataset"
   ]
  },
  {
   "cell_type": "code",
   "execution_count": 71,
   "id": "031fcdb0",
   "metadata": {},
   "outputs": [
    {
     "data": {
      "text/html": [
       "<div>\n",
       "<style scoped>\n",
       "    .dataframe tbody tr th:only-of-type {\n",
       "        vertical-align: middle;\n",
       "    }\n",
       "\n",
       "    .dataframe tbody tr th {\n",
       "        vertical-align: top;\n",
       "    }\n",
       "\n",
       "    .dataframe thead th {\n",
       "        text-align: right;\n",
       "    }\n",
       "</style>\n",
       "<table border=\"1\" class=\"dataframe\">\n",
       "  <thead>\n",
       "    <tr style=\"text-align: right;\">\n",
       "      <th></th>\n",
       "      <th>ID</th>\n",
       "      <th>Título</th>\n",
       "      <th>Diretor</th>\n",
       "      <th>Gênero</th>\n",
       "      <th>País</th>\n",
       "      <th>Lançamento</th>\n",
       "      <th>Classificação</th>\n",
       "      <th>Duração</th>\n",
       "      <th>IMDB</th>\n",
       "      <th>Tipo</th>\n",
       "    </tr>\n",
       "  </thead>\n",
       "  <tbody>\n",
       "    <tr>\n",
       "      <th>0</th>\n",
       "      <td>e2ef4e91-fb25-42ab-b485-be8e3b23dedb</td>\n",
       "      <td>Alive</td>\n",
       "      <td>Cho Il</td>\n",
       "      <td>Horror Movies, International Movies, Thrillers</td>\n",
       "      <td>South Korea</td>\n",
       "      <td>2020-01-01</td>\n",
       "      <td>Orientação dos Responsáveis</td>\n",
       "      <td>99</td>\n",
       "      <td>6.2</td>\n",
       "      <td>Movie</td>\n",
       "    </tr>\n",
       "    <tr>\n",
       "      <th>1</th>\n",
       "      <td>b01b73b7-81f6-47a7-86d8-acb63080d525</td>\n",
       "      <td>AnneFrank - Parallel Stories</td>\n",
       "      <td>Sabina Fedeli, Anna Migotto</td>\n",
       "      <td>Documentaries, International Movies</td>\n",
       "      <td>Italy</td>\n",
       "      <td>2019-01-01</td>\n",
       "      <td>Orientação dos Responsáveis-13</td>\n",
       "      <td>95</td>\n",
       "      <td>6.4</td>\n",
       "      <td>Movie</td>\n",
       "    </tr>\n",
       "    <tr>\n",
       "      <th>2</th>\n",
       "      <td>7f2d4170-bab8-4d75-adc2-197f7124c070</td>\n",
       "      <td>cats_the_mewvie</td>\n",
       "      <td>Michael Margolis</td>\n",
       "      <td>Documentaries, International Movies</td>\n",
       "      <td>Canada</td>\n",
       "      <td>2020-01-01</td>\n",
       "      <td>Orientação dos Responsáveis-13</td>\n",
       "      <td>90</td>\n",
       "      <td>5.1</td>\n",
       "      <td>Movie</td>\n",
       "    </tr>\n",
       "    <tr>\n",
       "      <th>3</th>\n",
       "      <td>c293788a-41f7-49a3-a7fc-005ea33bce2b</td>\n",
       "      <td>FriendButMarried</td>\n",
       "      <td>Rako Prijanto</td>\n",
       "      <td>Dramas, International Movies, Romantic Movies</td>\n",
       "      <td>Indonesia</td>\n",
       "      <td>2018-01-01</td>\n",
       "      <td>Todas as Idades</td>\n",
       "      <td>102</td>\n",
       "      <td>7.0</td>\n",
       "      <td>Movie</td>\n",
       "    </tr>\n",
       "    <tr>\n",
       "      <th>4</th>\n",
       "      <td>0555e67e-f624-4a05-93e4-55c117d0056d</td>\n",
       "      <td>FriendButMarried 2</td>\n",
       "      <td>Rako Prijanto</td>\n",
       "      <td>Dramas, International Movies, Romantic Movies</td>\n",
       "      <td>Indonesia</td>\n",
       "      <td>2020-01-01</td>\n",
       "      <td>Todas as Idades</td>\n",
       "      <td>104</td>\n",
       "      <td>7.0</td>\n",
       "      <td>Movie</td>\n",
       "    </tr>\n",
       "    <tr>\n",
       "      <th>...</th>\n",
       "      <td>...</td>\n",
       "      <td>...</td>\n",
       "      <td>...</td>\n",
       "      <td>...</td>\n",
       "      <td>...</td>\n",
       "      <td>...</td>\n",
       "      <td>...</td>\n",
       "      <td>...</td>\n",
       "      <td>...</td>\n",
       "      <td>...</td>\n",
       "    </tr>\n",
       "    <tr>\n",
       "      <th>5354</th>\n",
       "      <td>1952fb4f-8a01-4fd6-adba-0d1600778f90</td>\n",
       "      <td>Zig &amp; Sharko</td>\n",
       "      <td>Não Informado</td>\n",
       "      <td>Kids' TV, TV Comedies</td>\n",
       "      <td>France</td>\n",
       "      <td>2019-01-01</td>\n",
       "      <td>Conteúdo infantil7</td>\n",
       "      <td>2 Seasons</td>\n",
       "      <td>7.0</td>\n",
       "      <td>TV Show</td>\n",
       "    </tr>\n",
       "    <tr>\n",
       "      <th>5355</th>\n",
       "      <td>d143fc8e-0470-4dc8-a65f-5dc59370d776</td>\n",
       "      <td>Zindagi in Short</td>\n",
       "      <td>Não Informado</td>\n",
       "      <td>International TV Shows, TV Dramas</td>\n",
       "      <td>India</td>\n",
       "      <td>2020-01-01</td>\n",
       "      <td>Orientação dos Responsáveis</td>\n",
       "      <td>1 Season</td>\n",
       "      <td>7.3</td>\n",
       "      <td>TV Show</td>\n",
       "    </tr>\n",
       "    <tr>\n",
       "      <th>5356</th>\n",
       "      <td>e4d88cc9-8ee2-46b9-aac6-af786e6efbdb</td>\n",
       "      <td>Zona Rosa</td>\n",
       "      <td>Não Informado</td>\n",
       "      <td>International TV Shows, Spanish-Language TV Sh...</td>\n",
       "      <td>Mexico</td>\n",
       "      <td>2019-01-01</td>\n",
       "      <td>Orientação dos Responsáveis</td>\n",
       "      <td>1 Season</td>\n",
       "      <td>5.7</td>\n",
       "      <td>TV Show</td>\n",
       "    </tr>\n",
       "    <tr>\n",
       "      <th>5357</th>\n",
       "      <td>80bf7986-5698-4d01-bc52-e08a8210b834</td>\n",
       "      <td>Zoo</td>\n",
       "      <td>Não Informado</td>\n",
       "      <td>TV Dramas, TV Mysteries, TV Sci-Fi &amp; Fantasy</td>\n",
       "      <td>United States</td>\n",
       "      <td>2017-01-01</td>\n",
       "      <td>Orientação dos Responsáveis-13</td>\n",
       "      <td>3 Seasons</td>\n",
       "      <td>6.6</td>\n",
       "      <td>TV Show</td>\n",
       "    </tr>\n",
       "    <tr>\n",
       "      <th>5358</th>\n",
       "      <td>a86d832c-1082-4b10-82a3-766bb539e3aa</td>\n",
       "      <td>Zumbo's Just Desserts</td>\n",
       "      <td>Não Informado</td>\n",
       "      <td>International TV Shows, Reality TV</td>\n",
       "      <td>Australia</td>\n",
       "      <td>2019-01-01</td>\n",
       "      <td>Restrito</td>\n",
       "      <td>1 Season</td>\n",
       "      <td>7.1</td>\n",
       "      <td>TV Show</td>\n",
       "    </tr>\n",
       "  </tbody>\n",
       "</table>\n",
       "<p>5359 rows × 10 columns</p>\n",
       "</div>"
      ],
      "text/plain": [
       "                                        ID                        Título  \\\n",
       "0     e2ef4e91-fb25-42ab-b485-be8e3b23dedb                         Alive   \n",
       "1     b01b73b7-81f6-47a7-86d8-acb63080d525  AnneFrank - Parallel Stories   \n",
       "2     7f2d4170-bab8-4d75-adc2-197f7124c070               cats_the_mewvie   \n",
       "3     c293788a-41f7-49a3-a7fc-005ea33bce2b              FriendButMarried   \n",
       "4     0555e67e-f624-4a05-93e4-55c117d0056d            FriendButMarried 2   \n",
       "...                                    ...                           ...   \n",
       "5354  1952fb4f-8a01-4fd6-adba-0d1600778f90                  Zig & Sharko   \n",
       "5355  d143fc8e-0470-4dc8-a65f-5dc59370d776              Zindagi in Short   \n",
       "5356  e4d88cc9-8ee2-46b9-aac6-af786e6efbdb                     Zona Rosa   \n",
       "5357  80bf7986-5698-4d01-bc52-e08a8210b834                           Zoo   \n",
       "5358  a86d832c-1082-4b10-82a3-766bb539e3aa         Zumbo's Just Desserts   \n",
       "\n",
       "                          Diretor  \\\n",
       "0                          Cho Il   \n",
       "1     Sabina Fedeli, Anna Migotto   \n",
       "2                Michael Margolis   \n",
       "3                   Rako Prijanto   \n",
       "4                   Rako Prijanto   \n",
       "...                           ...   \n",
       "5354                Não Informado   \n",
       "5355                Não Informado   \n",
       "5356                Não Informado   \n",
       "5357                Não Informado   \n",
       "5358                Não Informado   \n",
       "\n",
       "                                                 Gênero           País  \\\n",
       "0        Horror Movies, International Movies, Thrillers    South Korea   \n",
       "1                   Documentaries, International Movies          Italy   \n",
       "2                   Documentaries, International Movies         Canada   \n",
       "3         Dramas, International Movies, Romantic Movies      Indonesia   \n",
       "4         Dramas, International Movies, Romantic Movies      Indonesia   \n",
       "...                                                 ...            ...   \n",
       "5354                              Kids' TV, TV Comedies         France   \n",
       "5355                  International TV Shows, TV Dramas          India   \n",
       "5356  International TV Shows, Spanish-Language TV Sh...         Mexico   \n",
       "5357       TV Dramas, TV Mysteries, TV Sci-Fi & Fantasy  United States   \n",
       "5358                 International TV Shows, Reality TV      Australia   \n",
       "\n",
       "     Lançamento                   Classificação    Duração  IMDB     Tipo  \n",
       "0    2020-01-01     Orientação dos Responsáveis         99   6.2    Movie  \n",
       "1    2019-01-01  Orientação dos Responsáveis-13         95   6.4    Movie  \n",
       "2    2020-01-01  Orientação dos Responsáveis-13         90   5.1    Movie  \n",
       "3    2018-01-01                 Todas as Idades        102   7.0    Movie  \n",
       "4    2020-01-01                 Todas as Idades        104   7.0    Movie  \n",
       "...         ...                             ...        ...   ...      ...  \n",
       "5354 2019-01-01              Conteúdo infantil7  2 Seasons   7.0  TV Show  \n",
       "5355 2020-01-01     Orientação dos Responsáveis   1 Season   7.3  TV Show  \n",
       "5356 2019-01-01     Orientação dos Responsáveis   1 Season   5.7  TV Show  \n",
       "5357 2017-01-01  Orientação dos Responsáveis-13  3 Seasons   6.6  TV Show  \n",
       "5358 2019-01-01                        Restrito   1 Season   7.1  TV Show  \n",
       "\n",
       "[5359 rows x 10 columns]"
      ]
     },
     "execution_count": 71,
     "metadata": {},
     "output_type": "execute_result"
    }
   ],
   "source": [
    "#Reset o index\n",
    "dataset = dataset.reset_index(drop=True)\n",
    "dataset"
   ]
  },
  {
   "cell_type": "markdown",
   "id": "c1ca8fc2",
   "metadata": {},
   "source": [
    "## Exportando arquivo tratado"
   ]
  },
  {
   "cell_type": "code",
   "execution_count": 72,
   "id": "bb8e210b",
   "metadata": {},
   "outputs": [],
   "source": [
    "dataset.to_csv('dadosnetflix.csv', index = False)"
   ]
  }
 ],
 "metadata": {
  "kernelspec": {
   "display_name": "Python 3 (ipykernel)",
   "language": "python",
   "name": "python3"
  },
  "language_info": {
   "codemirror_mode": {
    "name": "ipython",
    "version": 3
   },
   "file_extension": ".py",
   "mimetype": "text/x-python",
   "name": "python",
   "nbconvert_exporter": "python",
   "pygments_lexer": "ipython3",
   "version": "3.9.7"
  }
 },
 "nbformat": 4,
 "nbformat_minor": 5
}
