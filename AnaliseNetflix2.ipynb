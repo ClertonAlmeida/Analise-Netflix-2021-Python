{
 "cells": [
  {
   "cell_type": "markdown",
   "id": "5c8f1d3c",
   "metadata": {},
   "source": [
    "# Analise dos dados - Filmes e programas de TV da Netflix 2021"
   ]
  },
  {
   "cell_type": "code",
   "execution_count": 1,
   "id": "83655cb3",
   "metadata": {},
   "outputs": [],
   "source": [
    "# importando bibliotecas\n",
    "import pandas as pd\n",
    "import seaborn as srn\n",
    "import matplotlib.pyplot as plt\n",
    "import matplotlib as mat\n",
    "import matplotlib.pyplot as plt\n",
    "import numpy as np\n",
    "%matplotlib inline"
   ]
  },
  {
   "cell_type": "markdown",
   "id": "e3c89606",
   "metadata": {},
   "source": [
    "## Lendo o arquivo CSV e conhecendo os dados"
   ]
  },
  {
   "cell_type": "code",
   "execution_count": 2,
   "id": "efd8306b",
   "metadata": {},
   "outputs": [],
   "source": [
    "dataset = pd.read_csv('netflixData.csv')"
   ]
  },
  {
   "cell_type": "code",
   "execution_count": 3,
   "id": "da7234e7",
   "metadata": {},
   "outputs": [
    {
     "data": {
      "text/html": [
       "<div>\n",
       "<style scoped>\n",
       "    .dataframe tbody tr th:only-of-type {\n",
       "        vertical-align: middle;\n",
       "    }\n",
       "\n",
       "    .dataframe tbody tr th {\n",
       "        vertical-align: top;\n",
       "    }\n",
       "\n",
       "    .dataframe thead th {\n",
       "        text-align: right;\n",
       "    }\n",
       "</style>\n",
       "<table border=\"1\" class=\"dataframe\">\n",
       "  <thead>\n",
       "    <tr style=\"text-align: right;\">\n",
       "      <th></th>\n",
       "      <th>Show Id</th>\n",
       "      <th>Title</th>\n",
       "      <th>Description</th>\n",
       "      <th>Director</th>\n",
       "      <th>Genres</th>\n",
       "      <th>Cast</th>\n",
       "      <th>Production Country</th>\n",
       "      <th>Release Date</th>\n",
       "      <th>Rating</th>\n",
       "      <th>Duration</th>\n",
       "      <th>Imdb Score</th>\n",
       "      <th>Content Type</th>\n",
       "      <th>Date Added</th>\n",
       "    </tr>\n",
       "  </thead>\n",
       "  <tbody>\n",
       "    <tr>\n",
       "      <th>0</th>\n",
       "      <td>cc1b6ed9-cf9e-4057-8303-34577fb54477</td>\n",
       "      <td>(Un)Well</td>\n",
       "      <td>This docuseries takes a deep dive into the luc...</td>\n",
       "      <td>NaN</td>\n",
       "      <td>Reality TV</td>\n",
       "      <td>NaN</td>\n",
       "      <td>United States</td>\n",
       "      <td>2020.0</td>\n",
       "      <td>TV-MA</td>\n",
       "      <td>1 Season</td>\n",
       "      <td>6.6/10</td>\n",
       "      <td>TV Show</td>\n",
       "      <td>NaN</td>\n",
       "    </tr>\n",
       "    <tr>\n",
       "      <th>1</th>\n",
       "      <td>e2ef4e91-fb25-42ab-b485-be8e3b23dedb</td>\n",
       "      <td>#Alive</td>\n",
       "      <td>As a grisly virus rampages a city, a lone man ...</td>\n",
       "      <td>Cho Il</td>\n",
       "      <td>Horror Movies, International Movies, Thrillers</td>\n",
       "      <td>Yoo Ah-in, Park Shin-hye</td>\n",
       "      <td>South Korea</td>\n",
       "      <td>2020.0</td>\n",
       "      <td>TV-MA</td>\n",
       "      <td>99 min</td>\n",
       "      <td>6.2/10</td>\n",
       "      <td>Movie</td>\n",
       "      <td>September 8, 2020</td>\n",
       "    </tr>\n",
       "    <tr>\n",
       "      <th>2</th>\n",
       "      <td>b01b73b7-81f6-47a7-86d8-acb63080d525</td>\n",
       "      <td>#AnneFrank - Parallel Stories</td>\n",
       "      <td>Through her diary, Anne Frank's story is retol...</td>\n",
       "      <td>Sabina Fedeli, Anna Migotto</td>\n",
       "      <td>Documentaries, International Movies</td>\n",
       "      <td>Helen Mirren, Gengher Gatti</td>\n",
       "      <td>Italy</td>\n",
       "      <td>2019.0</td>\n",
       "      <td>TV-14</td>\n",
       "      <td>95 min</td>\n",
       "      <td>6.4/10</td>\n",
       "      <td>Movie</td>\n",
       "      <td>July 1, 2020</td>\n",
       "    </tr>\n",
       "    <tr>\n",
       "      <th>3</th>\n",
       "      <td>b6611af0-f53c-4a08-9ffa-9716dc57eb9c</td>\n",
       "      <td>#blackAF</td>\n",
       "      <td>Kenya Barris and his family navigate relations...</td>\n",
       "      <td>NaN</td>\n",
       "      <td>TV Comedies</td>\n",
       "      <td>Kenya Barris, Rashida Jones, Iman Benson, Genn...</td>\n",
       "      <td>United States</td>\n",
       "      <td>2020.0</td>\n",
       "      <td>TV-MA</td>\n",
       "      <td>1 Season</td>\n",
       "      <td>6.6/10</td>\n",
       "      <td>TV Show</td>\n",
       "      <td>NaN</td>\n",
       "    </tr>\n",
       "    <tr>\n",
       "      <th>4</th>\n",
       "      <td>7f2d4170-bab8-4d75-adc2-197f7124c070</td>\n",
       "      <td>#cats_the_mewvie</td>\n",
       "      <td>This pawesome documentary explores how our fel...</td>\n",
       "      <td>Michael Margolis</td>\n",
       "      <td>Documentaries, International Movies</td>\n",
       "      <td>NaN</td>\n",
       "      <td>Canada</td>\n",
       "      <td>2020.0</td>\n",
       "      <td>TV-14</td>\n",
       "      <td>90 min</td>\n",
       "      <td>5.1/10</td>\n",
       "      <td>Movie</td>\n",
       "      <td>February 5, 2020</td>\n",
       "    </tr>\n",
       "  </tbody>\n",
       "</table>\n",
       "</div>"
      ],
      "text/plain": [
       "                                Show Id                          Title  \\\n",
       "0  cc1b6ed9-cf9e-4057-8303-34577fb54477                       (Un)Well   \n",
       "1  e2ef4e91-fb25-42ab-b485-be8e3b23dedb                         #Alive   \n",
       "2  b01b73b7-81f6-47a7-86d8-acb63080d525  #AnneFrank - Parallel Stories   \n",
       "3  b6611af0-f53c-4a08-9ffa-9716dc57eb9c                       #blackAF   \n",
       "4  7f2d4170-bab8-4d75-adc2-197f7124c070               #cats_the_mewvie   \n",
       "\n",
       "                                         Description  \\\n",
       "0  This docuseries takes a deep dive into the luc...   \n",
       "1  As a grisly virus rampages a city, a lone man ...   \n",
       "2  Through her diary, Anne Frank's story is retol...   \n",
       "3  Kenya Barris and his family navigate relations...   \n",
       "4  This pawesome documentary explores how our fel...   \n",
       "\n",
       "                      Director  \\\n",
       "0                          NaN   \n",
       "1                       Cho Il   \n",
       "2  Sabina Fedeli, Anna Migotto   \n",
       "3                          NaN   \n",
       "4             Michael Margolis   \n",
       "\n",
       "                                           Genres  \\\n",
       "0                                      Reality TV   \n",
       "1  Horror Movies, International Movies, Thrillers   \n",
       "2             Documentaries, International Movies   \n",
       "3                                     TV Comedies   \n",
       "4             Documentaries, International Movies   \n",
       "\n",
       "                                                Cast Production Country  \\\n",
       "0                                                NaN      United States   \n",
       "1                           Yoo Ah-in, Park Shin-hye        South Korea   \n",
       "2                        Helen Mirren, Gengher Gatti              Italy   \n",
       "3  Kenya Barris, Rashida Jones, Iman Benson, Genn...      United States   \n",
       "4                                                NaN             Canada   \n",
       "\n",
       "   Release Date Rating  Duration Imdb Score Content Type         Date Added  \n",
       "0        2020.0  TV-MA  1 Season     6.6/10      TV Show                NaN  \n",
       "1        2020.0  TV-MA    99 min     6.2/10        Movie  September 8, 2020  \n",
       "2        2019.0  TV-14    95 min     6.4/10        Movie       July 1, 2020  \n",
       "3        2020.0  TV-MA  1 Season     6.6/10      TV Show                NaN  \n",
       "4        2020.0  TV-14    90 min     5.1/10        Movie   February 5, 2020  "
      ]
     },
     "execution_count": 3,
     "metadata": {},
     "output_type": "execute_result"
    }
   ],
   "source": [
    "dataset.head()"
   ]
  },
  {
   "cell_type": "code",
   "execution_count": 4,
   "id": "7fc7b81f",
   "metadata": {},
   "outputs": [
    {
     "data": {
      "text/plain": [
       "(5967, 13)"
      ]
     },
     "execution_count": 4,
     "metadata": {},
     "output_type": "execute_result"
    }
   ],
   "source": [
    "dataset.shape"
   ]
  },
  {
   "cell_type": "code",
   "execution_count": 5,
   "id": "13a0f04f",
   "metadata": {},
   "outputs": [
    {
     "data": {
      "text/html": [
       "<div>\n",
       "<style scoped>\n",
       "    .dataframe tbody tr th:only-of-type {\n",
       "        vertical-align: middle;\n",
       "    }\n",
       "\n",
       "    .dataframe tbody tr th {\n",
       "        vertical-align: top;\n",
       "    }\n",
       "\n",
       "    .dataframe thead th {\n",
       "        text-align: right;\n",
       "    }\n",
       "</style>\n",
       "<table border=\"1\" class=\"dataframe\">\n",
       "  <thead>\n",
       "    <tr style=\"text-align: right;\">\n",
       "      <th></th>\n",
       "      <th>ID</th>\n",
       "      <th>Título</th>\n",
       "      <th>Descrição</th>\n",
       "      <th>Diretor</th>\n",
       "      <th>Gênero</th>\n",
       "      <th>Elenco</th>\n",
       "      <th>País</th>\n",
       "      <th>Lançamento</th>\n",
       "      <th>Classificação</th>\n",
       "      <th>Duração</th>\n",
       "      <th>IMDB</th>\n",
       "      <th>Tipo</th>\n",
       "      <th>DataAdicionado</th>\n",
       "    </tr>\n",
       "  </thead>\n",
       "  <tbody>\n",
       "    <tr>\n",
       "      <th>0</th>\n",
       "      <td>cc1b6ed9-cf9e-4057-8303-34577fb54477</td>\n",
       "      <td>(Un)Well</td>\n",
       "      <td>This docuseries takes a deep dive into the luc...</td>\n",
       "      <td>NaN</td>\n",
       "      <td>Reality TV</td>\n",
       "      <td>NaN</td>\n",
       "      <td>United States</td>\n",
       "      <td>2020.0</td>\n",
       "      <td>TV-MA</td>\n",
       "      <td>1 Season</td>\n",
       "      <td>6.6/10</td>\n",
       "      <td>TV Show</td>\n",
       "      <td>NaN</td>\n",
       "    </tr>\n",
       "  </tbody>\n",
       "</table>\n",
       "</div>"
      ],
      "text/plain": [
       "                                     ID    Título  \\\n",
       "0  cc1b6ed9-cf9e-4057-8303-34577fb54477  (Un)Well   \n",
       "\n",
       "                                           Descrição Diretor      Gênero  \\\n",
       "0  This docuseries takes a deep dive into the luc...     NaN  Reality TV   \n",
       "\n",
       "  Elenco           País  Lançamento Classificação   Duração    IMDB     Tipo  \\\n",
       "0    NaN  United States      2020.0         TV-MA  1 Season  6.6/10  TV Show   \n",
       "\n",
       "  DataAdicionado  \n",
       "0            NaN  "
      ]
     },
     "execution_count": 5,
     "metadata": {},
     "output_type": "execute_result"
    }
   ],
   "source": [
    "dataset.columns = ['ID', 'Título', 'Descrição', 'Diretor', 'Gênero', 'Elenco', 'País', 'Lançamento', 'Classificação', 'Duração', 'IMDB', 'Tipo', 'DataAdicionado']\n",
    "dataset.head(1)"
   ]
  },
  {
   "cell_type": "code",
   "execution_count": 6,
   "id": "42a5fc38",
   "metadata": {},
   "outputs": [
    {
     "name": "stdout",
     "output_type": "stream",
     "text": [
      "<class 'pandas.core.frame.DataFrame'>\n",
      "RangeIndex: 5967 entries, 0 to 5966\n",
      "Data columns (total 13 columns):\n",
      " #   Column          Non-Null Count  Dtype  \n",
      "---  ------          --------------  -----  \n",
      " 0   ID              5967 non-null   object \n",
      " 1   Título          5967 non-null   object \n",
      " 2   Descrição       5967 non-null   object \n",
      " 3   Diretor         3903 non-null   object \n",
      " 4   Gênero          5967 non-null   object \n",
      " 5   Elenco          5437 non-null   object \n",
      " 6   País            5408 non-null   object \n",
      " 7   Lançamento      5964 non-null   float64\n",
      " 8   Classificação   5963 non-null   object \n",
      " 9   Duração         5964 non-null   object \n",
      " 10  IMDB            5359 non-null   object \n",
      " 11  Tipo            5967 non-null   object \n",
      " 12  DataAdicionado  4632 non-null   object \n",
      "dtypes: float64(1), object(12)\n",
      "memory usage: 606.1+ KB\n"
     ]
    }
   ],
   "source": [
    "dataset.info()"
   ]
  },
  {
   "cell_type": "code",
   "execution_count": 7,
   "id": "564cdc70",
   "metadata": {},
   "outputs": [
    {
     "data": {
      "text/html": [
       "<div>\n",
       "<style scoped>\n",
       "    .dataframe tbody tr th:only-of-type {\n",
       "        vertical-align: middle;\n",
       "    }\n",
       "\n",
       "    .dataframe tbody tr th {\n",
       "        vertical-align: top;\n",
       "    }\n",
       "\n",
       "    .dataframe thead th {\n",
       "        text-align: right;\n",
       "    }\n",
       "</style>\n",
       "<table border=\"1\" class=\"dataframe\">\n",
       "  <thead>\n",
       "    <tr style=\"text-align: right;\">\n",
       "      <th></th>\n",
       "      <th>Lançamento</th>\n",
       "    </tr>\n",
       "  </thead>\n",
       "  <tbody>\n",
       "    <tr>\n",
       "      <th>count</th>\n",
       "      <td>5964.000000</td>\n",
       "    </tr>\n",
       "    <tr>\n",
       "      <th>mean</th>\n",
       "      <td>2015.643863</td>\n",
       "    </tr>\n",
       "    <tr>\n",
       "      <th>std</th>\n",
       "      <td>7.257391</td>\n",
       "    </tr>\n",
       "    <tr>\n",
       "      <th>min</th>\n",
       "      <td>1925.000000</td>\n",
       "    </tr>\n",
       "    <tr>\n",
       "      <th>25%</th>\n",
       "      <td>2015.000000</td>\n",
       "    </tr>\n",
       "    <tr>\n",
       "      <th>50%</th>\n",
       "      <td>2018.000000</td>\n",
       "    </tr>\n",
       "    <tr>\n",
       "      <th>75%</th>\n",
       "      <td>2019.000000</td>\n",
       "    </tr>\n",
       "    <tr>\n",
       "      <th>max</th>\n",
       "      <td>2021.000000</td>\n",
       "    </tr>\n",
       "  </tbody>\n",
       "</table>\n",
       "</div>"
      ],
      "text/plain": [
       "        Lançamento\n",
       "count  5964.000000\n",
       "mean   2015.643863\n",
       "std       7.257391\n",
       "min    1925.000000\n",
       "25%    2015.000000\n",
       "50%    2018.000000\n",
       "75%    2019.000000\n",
       "max    2021.000000"
      ]
     },
     "execution_count": 7,
     "metadata": {},
     "output_type": "execute_result"
    }
   ],
   "source": [
    "dataset.describe()"
   ]
  },
  {
   "cell_type": "code",
   "execution_count": 8,
   "id": "c79ef340",
   "metadata": {},
   "outputs": [
    {
     "data": {
      "text/html": [
       "<div>\n",
       "<style scoped>\n",
       "    .dataframe tbody tr th:only-of-type {\n",
       "        vertical-align: middle;\n",
       "    }\n",
       "\n",
       "    .dataframe tbody tr th {\n",
       "        vertical-align: top;\n",
       "    }\n",
       "\n",
       "    .dataframe thead th {\n",
       "        text-align: right;\n",
       "    }\n",
       "</style>\n",
       "<table border=\"1\" class=\"dataframe\">\n",
       "  <thead>\n",
       "    <tr style=\"text-align: right;\">\n",
       "      <th></th>\n",
       "      <th>ID</th>\n",
       "      <th>Título</th>\n",
       "      <th>Descrição</th>\n",
       "      <th>Diretor</th>\n",
       "      <th>Gênero</th>\n",
       "      <th>Elenco</th>\n",
       "      <th>País</th>\n",
       "      <th>Lançamento</th>\n",
       "      <th>Classificação</th>\n",
       "      <th>Duração</th>\n",
       "      <th>IMDB</th>\n",
       "      <th>Tipo</th>\n",
       "      <th>DataAdicionado</th>\n",
       "    </tr>\n",
       "  </thead>\n",
       "  <tbody>\n",
       "    <tr>\n",
       "      <th>0</th>\n",
       "      <td>False</td>\n",
       "      <td>False</td>\n",
       "      <td>False</td>\n",
       "      <td>True</td>\n",
       "      <td>False</td>\n",
       "      <td>True</td>\n",
       "      <td>False</td>\n",
       "      <td>False</td>\n",
       "      <td>False</td>\n",
       "      <td>False</td>\n",
       "      <td>False</td>\n",
       "      <td>False</td>\n",
       "      <td>True</td>\n",
       "    </tr>\n",
       "    <tr>\n",
       "      <th>1</th>\n",
       "      <td>False</td>\n",
       "      <td>False</td>\n",
       "      <td>False</td>\n",
       "      <td>False</td>\n",
       "      <td>False</td>\n",
       "      <td>False</td>\n",
       "      <td>False</td>\n",
       "      <td>False</td>\n",
       "      <td>False</td>\n",
       "      <td>False</td>\n",
       "      <td>False</td>\n",
       "      <td>False</td>\n",
       "      <td>False</td>\n",
       "    </tr>\n",
       "    <tr>\n",
       "      <th>2</th>\n",
       "      <td>False</td>\n",
       "      <td>False</td>\n",
       "      <td>False</td>\n",
       "      <td>False</td>\n",
       "      <td>False</td>\n",
       "      <td>False</td>\n",
       "      <td>False</td>\n",
       "      <td>False</td>\n",
       "      <td>False</td>\n",
       "      <td>False</td>\n",
       "      <td>False</td>\n",
       "      <td>False</td>\n",
       "      <td>False</td>\n",
       "    </tr>\n",
       "    <tr>\n",
       "      <th>3</th>\n",
       "      <td>False</td>\n",
       "      <td>False</td>\n",
       "      <td>False</td>\n",
       "      <td>True</td>\n",
       "      <td>False</td>\n",
       "      <td>False</td>\n",
       "      <td>False</td>\n",
       "      <td>False</td>\n",
       "      <td>False</td>\n",
       "      <td>False</td>\n",
       "      <td>False</td>\n",
       "      <td>False</td>\n",
       "      <td>True</td>\n",
       "    </tr>\n",
       "    <tr>\n",
       "      <th>4</th>\n",
       "      <td>False</td>\n",
       "      <td>False</td>\n",
       "      <td>False</td>\n",
       "      <td>False</td>\n",
       "      <td>False</td>\n",
       "      <td>True</td>\n",
       "      <td>False</td>\n",
       "      <td>False</td>\n",
       "      <td>False</td>\n",
       "      <td>False</td>\n",
       "      <td>False</td>\n",
       "      <td>False</td>\n",
       "      <td>False</td>\n",
       "    </tr>\n",
       "    <tr>\n",
       "      <th>...</th>\n",
       "      <td>...</td>\n",
       "      <td>...</td>\n",
       "      <td>...</td>\n",
       "      <td>...</td>\n",
       "      <td>...</td>\n",
       "      <td>...</td>\n",
       "      <td>...</td>\n",
       "      <td>...</td>\n",
       "      <td>...</td>\n",
       "      <td>...</td>\n",
       "      <td>...</td>\n",
       "      <td>...</td>\n",
       "      <td>...</td>\n",
       "    </tr>\n",
       "    <tr>\n",
       "      <th>5962</th>\n",
       "      <td>False</td>\n",
       "      <td>False</td>\n",
       "      <td>False</td>\n",
       "      <td>False</td>\n",
       "      <td>False</td>\n",
       "      <td>False</td>\n",
       "      <td>False</td>\n",
       "      <td>False</td>\n",
       "      <td>False</td>\n",
       "      <td>False</td>\n",
       "      <td>False</td>\n",
       "      <td>False</td>\n",
       "      <td>False</td>\n",
       "    </tr>\n",
       "    <tr>\n",
       "      <th>5963</th>\n",
       "      <td>False</td>\n",
       "      <td>False</td>\n",
       "      <td>False</td>\n",
       "      <td>True</td>\n",
       "      <td>False</td>\n",
       "      <td>False</td>\n",
       "      <td>True</td>\n",
       "      <td>False</td>\n",
       "      <td>False</td>\n",
       "      <td>False</td>\n",
       "      <td>True</td>\n",
       "      <td>False</td>\n",
       "      <td>True</td>\n",
       "    </tr>\n",
       "    <tr>\n",
       "      <th>5964</th>\n",
       "      <td>False</td>\n",
       "      <td>False</td>\n",
       "      <td>False</td>\n",
       "      <td>True</td>\n",
       "      <td>False</td>\n",
       "      <td>False</td>\n",
       "      <td>True</td>\n",
       "      <td>False</td>\n",
       "      <td>False</td>\n",
       "      <td>False</td>\n",
       "      <td>True</td>\n",
       "      <td>False</td>\n",
       "      <td>True</td>\n",
       "    </tr>\n",
       "    <tr>\n",
       "      <th>5965</th>\n",
       "      <td>False</td>\n",
       "      <td>False</td>\n",
       "      <td>False</td>\n",
       "      <td>False</td>\n",
       "      <td>False</td>\n",
       "      <td>False</td>\n",
       "      <td>False</td>\n",
       "      <td>False</td>\n",
       "      <td>False</td>\n",
       "      <td>False</td>\n",
       "      <td>False</td>\n",
       "      <td>False</td>\n",
       "      <td>False</td>\n",
       "    </tr>\n",
       "    <tr>\n",
       "      <th>5966</th>\n",
       "      <td>False</td>\n",
       "      <td>False</td>\n",
       "      <td>False</td>\n",
       "      <td>False</td>\n",
       "      <td>False</td>\n",
       "      <td>False</td>\n",
       "      <td>True</td>\n",
       "      <td>False</td>\n",
       "      <td>False</td>\n",
       "      <td>False</td>\n",
       "      <td>False</td>\n",
       "      <td>False</td>\n",
       "      <td>False</td>\n",
       "    </tr>\n",
       "  </tbody>\n",
       "</table>\n",
       "<p>5967 rows × 13 columns</p>\n",
       "</div>"
      ],
      "text/plain": [
       "         ID  Título  Descrição  Diretor  Gênero  Elenco   País  Lançamento  \\\n",
       "0     False   False      False     True   False    True  False       False   \n",
       "1     False   False      False    False   False   False  False       False   \n",
       "2     False   False      False    False   False   False  False       False   \n",
       "3     False   False      False     True   False   False  False       False   \n",
       "4     False   False      False    False   False    True  False       False   \n",
       "...     ...     ...        ...      ...     ...     ...    ...         ...   \n",
       "5962  False   False      False    False   False   False  False       False   \n",
       "5963  False   False      False     True   False   False   True       False   \n",
       "5964  False   False      False     True   False   False   True       False   \n",
       "5965  False   False      False    False   False   False  False       False   \n",
       "5966  False   False      False    False   False   False   True       False   \n",
       "\n",
       "      Classificação  Duração   IMDB   Tipo  DataAdicionado  \n",
       "0             False    False  False  False            True  \n",
       "1             False    False  False  False           False  \n",
       "2             False    False  False  False           False  \n",
       "3             False    False  False  False            True  \n",
       "4             False    False  False  False           False  \n",
       "...             ...      ...    ...    ...             ...  \n",
       "5962          False    False  False  False           False  \n",
       "5963          False    False   True  False            True  \n",
       "5964          False    False   True  False            True  \n",
       "5965          False    False  False  False           False  \n",
       "5966          False    False  False  False           False  \n",
       "\n",
       "[5967 rows x 13 columns]"
      ]
     },
     "execution_count": 8,
     "metadata": {},
     "output_type": "execute_result"
    }
   ],
   "source": [
    "dataset.isnull()"
   ]
  },
  {
   "cell_type": "code",
   "execution_count": 9,
   "id": "d6b30feb",
   "metadata": {},
   "outputs": [
    {
     "data": {
      "text/plain": [
       "ID                   0\n",
       "Título               0\n",
       "Descrição            0\n",
       "Diretor           2064\n",
       "Gênero               0\n",
       "Elenco             530\n",
       "País               559\n",
       "Lançamento           3\n",
       "Classificação        4\n",
       "Duração              3\n",
       "IMDB               608\n",
       "Tipo                 0\n",
       "DataAdicionado    1335\n",
       "dtype: int64"
      ]
     },
     "execution_count": 9,
     "metadata": {},
     "output_type": "execute_result"
    }
   ],
   "source": [
    "total_null=dataset.isnull().sum() \n",
    "total_null"
   ]
  },
  {
   "cell_type": "code",
   "execution_count": 10,
   "id": "5ad8679e",
   "metadata": {},
   "outputs": [
    {
     "name": "stdout",
     "output_type": "stream",
     "text": [
      "ID                 0.00\n",
      "Título             0.00\n",
      "Descrição          0.00\n",
      "Diretor           34.59\n",
      "Gênero             0.00\n",
      "Elenco             8.88\n",
      "País               9.37\n",
      "Lançamento         0.05\n",
      "Classificação      0.07\n",
      "Duração            0.05\n",
      "IMDB              10.19\n",
      "Tipo               0.00\n",
      "DataAdicionado    22.37\n",
      "dtype: float64\n"
     ]
    }
   ],
   "source": [
    "print(round(total_null*100/len(dataset),2))"
   ]
  },
  {
   "cell_type": "markdown",
   "id": "25a0d4f8",
   "metadata": {},
   "source": [
    "## Explorando as categorias e tratando"
   ]
  },
  {
   "cell_type": "markdown",
   "id": "0a7362c9",
   "metadata": {},
   "source": [
    "## Categoria Título"
   ]
  },
  {
   "cell_type": "code",
   "execution_count": 11,
   "id": "db9cc195",
   "metadata": {},
   "outputs": [
    {
     "data": {
      "text/plain": [
       "Título\n",
       "#Alive                                 1\n",
       "#AnneFrank - Parallel Stories          1\n",
       "#FriendButMarried                      1\n",
       "#FriendButMarried 2                    1\n",
       "#Rucker50                              1\n",
       "                                      ..\n",
       "​SAINT SEIYA: Knights of the Zodiac    1\n",
       "​​Kuch Bheege Alfaaz                   1\n",
       "海的儿子                                   1\n",
       "반드시 잡는다                                1\n",
       "최강전사 미니특공대 : 영웅의 탄생                    1\n",
       "Length: 5897, dtype: int64"
      ]
     },
     "execution_count": 11,
     "metadata": {},
     "output_type": "execute_result"
    }
   ],
   "source": [
    "#explorar dados categoricos\n",
    "#Título\n",
    "agrupado = dataset.groupby(['Título']).size()\n",
    "agrupado"
   ]
  },
  {
   "cell_type": "code",
   "execution_count": 12,
   "id": "be096905",
   "metadata": {},
   "outputs": [
    {
     "data": {
      "text/plain": [
       "0"
      ]
     },
     "execution_count": 12,
     "metadata": {},
     "output_type": "execute_result"
    }
   ],
   "source": [
    "dataset['Título'].isnull().sum()"
   ]
  },
  {
   "cell_type": "code",
   "execution_count": 13,
   "id": "6e58b9dc",
   "metadata": {},
   "outputs": [],
   "source": [
    "dataset['Título'] = dataset['Título'].str.replace('#','')"
   ]
  },
  {
   "cell_type": "code",
   "execution_count": 14,
   "id": "f8afd163",
   "metadata": {},
   "outputs": [
    {
     "data": {
      "text/plain": [
       "0    (Un)Well\n",
       "1       Alive\n",
       "Name: Título, dtype: object"
      ]
     },
     "execution_count": 14,
     "metadata": {},
     "output_type": "execute_result"
    }
   ],
   "source": [
    "dataset['Título'].head(2)"
   ]
  },
  {
   "cell_type": "markdown",
   "id": "876741ec",
   "metadata": {},
   "source": [
    "## Descrição"
   ]
  },
  {
   "cell_type": "code",
   "execution_count": 15,
   "id": "cba0665d",
   "metadata": {},
   "outputs": [
    {
     "data": {
      "text/plain": [
       "0    This docuseries takes a deep dive into the luc...\n",
       "1    As a grisly virus rampages a city, a lone man ...\n",
       "Name: Descrição, dtype: object"
      ]
     },
     "execution_count": 15,
     "metadata": {},
     "output_type": "execute_result"
    }
   ],
   "source": [
    "#explorar dados categoricos\n",
    "#Descrição\n",
    "dataset['Descrição'].head(2)"
   ]
  },
  {
   "cell_type": "code",
   "execution_count": 16,
   "id": "03e56c5b",
   "metadata": {},
   "outputs": [
    {
     "data": {
      "text/plain": [
       "0"
      ]
     },
     "execution_count": 16,
     "metadata": {},
     "output_type": "execute_result"
    }
   ],
   "source": [
    "dataset['Descrição'].isnull().sum()"
   ]
  },
  {
   "cell_type": "code",
   "execution_count": 17,
   "id": "6702bc85",
   "metadata": {
    "scrolled": true
   },
   "outputs": [
    {
     "data": {
      "text/html": [
       "<div>\n",
       "<style scoped>\n",
       "    .dataframe tbody tr th:only-of-type {\n",
       "        vertical-align: middle;\n",
       "    }\n",
       "\n",
       "    .dataframe tbody tr th {\n",
       "        vertical-align: top;\n",
       "    }\n",
       "\n",
       "    .dataframe thead th {\n",
       "        text-align: right;\n",
       "    }\n",
       "</style>\n",
       "<table border=\"1\" class=\"dataframe\">\n",
       "  <thead>\n",
       "    <tr style=\"text-align: right;\">\n",
       "      <th></th>\n",
       "      <th>ID</th>\n",
       "      <th>Título</th>\n",
       "      <th>Diretor</th>\n",
       "      <th>Gênero</th>\n",
       "      <th>Elenco</th>\n",
       "      <th>País</th>\n",
       "      <th>Lançamento</th>\n",
       "      <th>Classificação</th>\n",
       "      <th>Duração</th>\n",
       "      <th>IMDB</th>\n",
       "      <th>Tipo</th>\n",
       "      <th>DataAdicionado</th>\n",
       "    </tr>\n",
       "  </thead>\n",
       "  <tbody>\n",
       "    <tr>\n",
       "      <th>0</th>\n",
       "      <td>cc1b6ed9-cf9e-4057-8303-34577fb54477</td>\n",
       "      <td>(Un)Well</td>\n",
       "      <td>NaN</td>\n",
       "      <td>Reality TV</td>\n",
       "      <td>NaN</td>\n",
       "      <td>United States</td>\n",
       "      <td>2020.0</td>\n",
       "      <td>TV-MA</td>\n",
       "      <td>1 Season</td>\n",
       "      <td>6.6/10</td>\n",
       "      <td>TV Show</td>\n",
       "      <td>NaN</td>\n",
       "    </tr>\n",
       "    <tr>\n",
       "      <th>1</th>\n",
       "      <td>e2ef4e91-fb25-42ab-b485-be8e3b23dedb</td>\n",
       "      <td>Alive</td>\n",
       "      <td>Cho Il</td>\n",
       "      <td>Horror Movies, International Movies, Thrillers</td>\n",
       "      <td>Yoo Ah-in, Park Shin-hye</td>\n",
       "      <td>South Korea</td>\n",
       "      <td>2020.0</td>\n",
       "      <td>TV-MA</td>\n",
       "      <td>99 min</td>\n",
       "      <td>6.2/10</td>\n",
       "      <td>Movie</td>\n",
       "      <td>September 8, 2020</td>\n",
       "    </tr>\n",
       "  </tbody>\n",
       "</table>\n",
       "</div>"
      ],
      "text/plain": [
       "                                     ID    Título Diretor  \\\n",
       "0  cc1b6ed9-cf9e-4057-8303-34577fb54477  (Un)Well     NaN   \n",
       "1  e2ef4e91-fb25-42ab-b485-be8e3b23dedb     Alive  Cho Il   \n",
       "\n",
       "                                           Gênero                    Elenco  \\\n",
       "0                                      Reality TV                       NaN   \n",
       "1  Horror Movies, International Movies, Thrillers  Yoo Ah-in, Park Shin-hye   \n",
       "\n",
       "            País  Lançamento Classificação   Duração    IMDB     Tipo  \\\n",
       "0  United States      2020.0         TV-MA  1 Season  6.6/10  TV Show   \n",
       "1    South Korea      2020.0         TV-MA    99 min  6.2/10    Movie   \n",
       "\n",
       "      DataAdicionado  \n",
       "0                NaN  \n",
       "1  September 8, 2020  "
      ]
     },
     "execution_count": 17,
     "metadata": {},
     "output_type": "execute_result"
    }
   ],
   "source": [
    "#Deletando a coluna Descrição, visto não ter necessidade na analise atual que estamos realizando\n",
    "dataset.drop(columns=['Descrição'], inplace = True)\n",
    "dataset.head(2)"
   ]
  },
  {
   "cell_type": "code",
   "execution_count": 18,
   "id": "364597f5",
   "metadata": {},
   "outputs": [
    {
     "data": {
      "text/html": [
       "<div>\n",
       "<style scoped>\n",
       "    .dataframe tbody tr th:only-of-type {\n",
       "        vertical-align: middle;\n",
       "    }\n",
       "\n",
       "    .dataframe tbody tr th {\n",
       "        vertical-align: top;\n",
       "    }\n",
       "\n",
       "    .dataframe thead th {\n",
       "        text-align: right;\n",
       "    }\n",
       "</style>\n",
       "<table border=\"1\" class=\"dataframe\">\n",
       "  <thead>\n",
       "    <tr style=\"text-align: right;\">\n",
       "      <th></th>\n",
       "      <th>ID</th>\n",
       "      <th>Título</th>\n",
       "      <th>Diretor</th>\n",
       "      <th>Gênero</th>\n",
       "      <th>Elenco</th>\n",
       "      <th>País</th>\n",
       "      <th>Lançamento</th>\n",
       "      <th>Classificação</th>\n",
       "      <th>Duração</th>\n",
       "      <th>IMDB</th>\n",
       "      <th>Tipo</th>\n",
       "    </tr>\n",
       "  </thead>\n",
       "  <tbody>\n",
       "    <tr>\n",
       "      <th>0</th>\n",
       "      <td>cc1b6ed9-cf9e-4057-8303-34577fb54477</td>\n",
       "      <td>(Un)Well</td>\n",
       "      <td>NaN</td>\n",
       "      <td>Reality TV</td>\n",
       "      <td>NaN</td>\n",
       "      <td>United States</td>\n",
       "      <td>2020.0</td>\n",
       "      <td>TV-MA</td>\n",
       "      <td>1 Season</td>\n",
       "      <td>6.6/10</td>\n",
       "      <td>TV Show</td>\n",
       "    </tr>\n",
       "    <tr>\n",
       "      <th>1</th>\n",
       "      <td>e2ef4e91-fb25-42ab-b485-be8e3b23dedb</td>\n",
       "      <td>Alive</td>\n",
       "      <td>Cho Il</td>\n",
       "      <td>Horror Movies, International Movies, Thrillers</td>\n",
       "      <td>Yoo Ah-in, Park Shin-hye</td>\n",
       "      <td>South Korea</td>\n",
       "      <td>2020.0</td>\n",
       "      <td>TV-MA</td>\n",
       "      <td>99 min</td>\n",
       "      <td>6.2/10</td>\n",
       "      <td>Movie</td>\n",
       "    </tr>\n",
       "  </tbody>\n",
       "</table>\n",
       "</div>"
      ],
      "text/plain": [
       "                                     ID    Título Diretor  \\\n",
       "0  cc1b6ed9-cf9e-4057-8303-34577fb54477  (Un)Well     NaN   \n",
       "1  e2ef4e91-fb25-42ab-b485-be8e3b23dedb     Alive  Cho Il   \n",
       "\n",
       "                                           Gênero                    Elenco  \\\n",
       "0                                      Reality TV                       NaN   \n",
       "1  Horror Movies, International Movies, Thrillers  Yoo Ah-in, Park Shin-hye   \n",
       "\n",
       "            País  Lançamento Classificação   Duração    IMDB     Tipo  \n",
       "0  United States      2020.0         TV-MA  1 Season  6.6/10  TV Show  \n",
       "1    South Korea      2020.0         TV-MA    99 min  6.2/10    Movie  "
      ]
     },
     "execution_count": 18,
     "metadata": {},
     "output_type": "execute_result"
    }
   ],
   "source": [
    "#Deletando a coluna Descrição, visto não ter necessidade na analise atual que estamos realizando\n",
    "dataset.drop(columns=['DataAdicionado'], inplace = True)\n",
    "dataset.head(2)"
   ]
  },
  {
   "cell_type": "markdown",
   "id": "26d0aba9",
   "metadata": {},
   "source": [
    "## Categoria Diretor"
   ]
  },
  {
   "cell_type": "code",
   "execution_count": 19,
   "id": "3b0e9e1a",
   "metadata": {},
   "outputs": [
    {
     "data": {
      "text/plain": [
       "2064"
      ]
     },
     "execution_count": 19,
     "metadata": {},
     "output_type": "execute_result"
    }
   ],
   "source": [
    "#explorar dados categoricos\n",
    "#Diretor\n",
    "dataset['Diretor'].isnull().sum()"
   ]
  },
  {
   "cell_type": "code",
   "execution_count": 20,
   "id": "0e55fb3b",
   "metadata": {},
   "outputs": [],
   "source": [
    "# Tratando as colunas Diretor colocando no lugar de null o valor \"Não Informado\"\n",
    "dataset[\"Diretor\"].fillna(\"Não Informado\", inplace=True)"
   ]
  },
  {
   "cell_type": "code",
   "execution_count": 21,
   "id": "3d0fc994",
   "metadata": {},
   "outputs": [
    {
     "data": {
      "text/plain": [
       "Diretor\n",
       "A. L. Vijay              1\n",
       "A. Raajdheep             1\n",
       "A. Salaam                1\n",
       "A.R. Murugadoss          3\n",
       "Aadish Keluskar          1\n",
       "                        ..\n",
       "Ángel Gómez Hernández    1\n",
       "Ángeles Reiné            1\n",
       "Ísold Uggadóttir         1\n",
       "Ömer Faruk Sorak         1\n",
       "Şenol Sönmez             2\n",
       "Length: 2994, dtype: int64"
      ]
     },
     "execution_count": 21,
     "metadata": {},
     "output_type": "execute_result"
    }
   ],
   "source": [
    "agrupado = dataset.groupby(['Diretor']).size()\n",
    "agrupado"
   ]
  },
  {
   "cell_type": "markdown",
   "id": "aebc2683",
   "metadata": {},
   "source": [
    "## Categoria Gênero"
   ]
  },
  {
   "cell_type": "code",
   "execution_count": 22,
   "id": "53a538e3",
   "metadata": {},
   "outputs": [
    {
     "data": {
      "text/plain": [
       "0"
      ]
     },
     "execution_count": 22,
     "metadata": {},
     "output_type": "execute_result"
    }
   ],
   "source": [
    "#explorar dados categoricos\n",
    "#Gênero\n",
    "dataset['Gênero'].isnull().sum()"
   ]
  },
  {
   "cell_type": "code",
   "execution_count": 23,
   "id": "29faa050",
   "metadata": {},
   "outputs": [
    {
     "data": {
      "text/plain": [
       "0                                        Reality TV\n",
       "1    Horror Movies, International Movies, Thrillers\n",
       "2               Documentaries, International Movies\n",
       "3                                       TV Comedies\n",
       "4               Documentaries, International Movies\n",
       "Name: Gênero, dtype: object"
      ]
     },
     "execution_count": 23,
     "metadata": {},
     "output_type": "execute_result"
    }
   ],
   "source": [
    "dataset['Gênero'].head()"
   ]
  },
  {
   "cell_type": "code",
   "execution_count": 24,
   "id": "fcf2d1d4",
   "metadata": {},
   "outputs": [
    {
     "data": {
      "text/plain": [
       "Gênero\n",
       "Action & Adventure                                              65\n",
       "Action & Adventure, Anime Features, Children & Family Movies     3\n",
       "Action & Adventure, Anime Features, Classic Movies               2\n",
       "Action & Adventure, Anime Features, Horror Movies                1\n",
       "Action & Adventure, Anime Features, International Movies        31\n",
       "                                                                ..\n",
       "TV Horror, TV Mysteries, Teen TV Shows                           1\n",
       "TV Horror, Teen TV Shows                                         2\n",
       "TV Sci-Fi & Fantasy, TV Thrillers                                1\n",
       "TV Shows                                                         9\n",
       "Thrillers                                                       33\n",
       "Length: 433, dtype: int64"
      ]
     },
     "execution_count": 24,
     "metadata": {},
     "output_type": "execute_result"
    }
   ],
   "source": [
    "agrupado2 = dataset.groupby(['Gênero']).size()\n",
    "agrupado2"
   ]
  },
  {
   "cell_type": "markdown",
   "id": "c29d09a5",
   "metadata": {},
   "source": [
    "## Categoria Elenco"
   ]
  },
  {
   "cell_type": "code",
   "execution_count": 25,
   "id": "d1900e95",
   "metadata": {},
   "outputs": [
    {
     "data": {
      "text/plain": [
       "530"
      ]
     },
     "execution_count": 25,
     "metadata": {},
     "output_type": "execute_result"
    }
   ],
   "source": [
    "#explorar dados categoricos\n",
    "#Elenco\n",
    "dataset['Elenco'].isnull().sum()"
   ]
  },
  {
   "cell_type": "code",
   "execution_count": 26,
   "id": "b6809b70",
   "metadata": {},
   "outputs": [],
   "source": [
    "# Tratando as colunas Elenco colocando no lugar de null o valor \"Não Informado\"\n",
    "dataset[\"Elenco\"].fillna(\"Não Informado\", inplace=True)"
   ]
  },
  {
   "cell_type": "code",
   "execution_count": 27,
   "id": "f6a7dcba",
   "metadata": {},
   "outputs": [
    {
     "data": {
      "text/plain": [
       "0               Não Informado\n",
       "1    Yoo Ah-in, Park Shin-hye\n",
       "Name: Elenco, dtype: object"
      ]
     },
     "execution_count": 27,
     "metadata": {},
     "output_type": "execute_result"
    }
   ],
   "source": [
    "dataset[\"Elenco\"].head(2)"
   ]
  },
  {
   "cell_type": "code",
   "execution_count": 28,
   "id": "73fa9d95",
   "metadata": {},
   "outputs": [
    {
     "data": {
      "text/html": [
       "<div>\n",
       "<style scoped>\n",
       "    .dataframe tbody tr th:only-of-type {\n",
       "        vertical-align: middle;\n",
       "    }\n",
       "\n",
       "    .dataframe tbody tr th {\n",
       "        vertical-align: top;\n",
       "    }\n",
       "\n",
       "    .dataframe thead th {\n",
       "        text-align: right;\n",
       "    }\n",
       "</style>\n",
       "<table border=\"1\" class=\"dataframe\">\n",
       "  <thead>\n",
       "    <tr style=\"text-align: right;\">\n",
       "      <th></th>\n",
       "      <th>ID</th>\n",
       "      <th>Título</th>\n",
       "      <th>Diretor</th>\n",
       "      <th>Gênero</th>\n",
       "      <th>País</th>\n",
       "      <th>Lançamento</th>\n",
       "      <th>Classificação</th>\n",
       "      <th>Duração</th>\n",
       "      <th>IMDB</th>\n",
       "      <th>Tipo</th>\n",
       "    </tr>\n",
       "  </thead>\n",
       "  <tbody>\n",
       "    <tr>\n",
       "      <th>0</th>\n",
       "      <td>cc1b6ed9-cf9e-4057-8303-34577fb54477</td>\n",
       "      <td>(Un)Well</td>\n",
       "      <td>Não Informado</td>\n",
       "      <td>Reality TV</td>\n",
       "      <td>United States</td>\n",
       "      <td>2020.0</td>\n",
       "      <td>TV-MA</td>\n",
       "      <td>1 Season</td>\n",
       "      <td>6.6/10</td>\n",
       "      <td>TV Show</td>\n",
       "    </tr>\n",
       "    <tr>\n",
       "      <th>1</th>\n",
       "      <td>e2ef4e91-fb25-42ab-b485-be8e3b23dedb</td>\n",
       "      <td>Alive</td>\n",
       "      <td>Cho Il</td>\n",
       "      <td>Horror Movies, International Movies, Thrillers</td>\n",
       "      <td>South Korea</td>\n",
       "      <td>2020.0</td>\n",
       "      <td>TV-MA</td>\n",
       "      <td>99 min</td>\n",
       "      <td>6.2/10</td>\n",
       "      <td>Movie</td>\n",
       "    </tr>\n",
       "  </tbody>\n",
       "</table>\n",
       "</div>"
      ],
      "text/plain": [
       "                                     ID    Título        Diretor  \\\n",
       "0  cc1b6ed9-cf9e-4057-8303-34577fb54477  (Un)Well  Não Informado   \n",
       "1  e2ef4e91-fb25-42ab-b485-be8e3b23dedb     Alive         Cho Il   \n",
       "\n",
       "                                           Gênero           País  Lançamento  \\\n",
       "0                                      Reality TV  United States      2020.0   \n",
       "1  Horror Movies, International Movies, Thrillers    South Korea      2020.0   \n",
       "\n",
       "  Classificação   Duração    IMDB     Tipo  \n",
       "0         TV-MA  1 Season  6.6/10  TV Show  \n",
       "1         TV-MA    99 min  6.2/10    Movie  "
      ]
     },
     "execution_count": 28,
     "metadata": {},
     "output_type": "execute_result"
    }
   ],
   "source": [
    "#Deletando a categoria Elenco, visto não ter necessidade na analise atual que estamos realizando\n",
    "dataset.drop(columns=['Elenco'], inplace = True)\n",
    "dataset.head(2)"
   ]
  },
  {
   "cell_type": "markdown",
   "id": "ac6f1305",
   "metadata": {},
   "source": [
    "## Categoria País"
   ]
  },
  {
   "cell_type": "code",
   "execution_count": 29,
   "id": "37ca4990",
   "metadata": {},
   "outputs": [
    {
     "data": {
      "text/plain": [
       "559"
      ]
     },
     "execution_count": 29,
     "metadata": {},
     "output_type": "execute_result"
    }
   ],
   "source": [
    "#explorar dados categoricos\n",
    "#País\n",
    "dataset['País'].isnull().sum()"
   ]
  },
  {
   "cell_type": "code",
   "execution_count": 30,
   "id": "313625b2",
   "metadata": {},
   "outputs": [
    {
     "data": {
      "text/html": [
       "<div>\n",
       "<style scoped>\n",
       "    .dataframe tbody tr th:only-of-type {\n",
       "        vertical-align: middle;\n",
       "    }\n",
       "\n",
       "    .dataframe tbody tr th {\n",
       "        vertical-align: top;\n",
       "    }\n",
       "\n",
       "    .dataframe thead th {\n",
       "        text-align: right;\n",
       "    }\n",
       "</style>\n",
       "<table border=\"1\" class=\"dataframe\">\n",
       "  <thead>\n",
       "    <tr style=\"text-align: right;\">\n",
       "      <th></th>\n",
       "      <th>ID</th>\n",
       "      <th>Título</th>\n",
       "      <th>Diretor</th>\n",
       "      <th>Gênero</th>\n",
       "      <th>País</th>\n",
       "      <th>Lançamento</th>\n",
       "      <th>Classificação</th>\n",
       "      <th>Duração</th>\n",
       "      <th>IMDB</th>\n",
       "      <th>Tipo</th>\n",
       "    </tr>\n",
       "  </thead>\n",
       "  <tbody>\n",
       "    <tr>\n",
       "      <th>0</th>\n",
       "      <td>cc1b6ed9-cf9e-4057-8303-34577fb54477</td>\n",
       "      <td>(Un)Well</td>\n",
       "      <td>Não Informado</td>\n",
       "      <td>Reality TV</td>\n",
       "      <td>United States</td>\n",
       "      <td>2020.0</td>\n",
       "      <td>TV-MA</td>\n",
       "      <td>1 Season</td>\n",
       "      <td>6.6/10</td>\n",
       "      <td>TV Show</td>\n",
       "    </tr>\n",
       "    <tr>\n",
       "      <th>1</th>\n",
       "      <td>e2ef4e91-fb25-42ab-b485-be8e3b23dedb</td>\n",
       "      <td>Alive</td>\n",
       "      <td>Cho Il</td>\n",
       "      <td>Horror Movies, International Movies, Thrillers</td>\n",
       "      <td>South Korea</td>\n",
       "      <td>2020.0</td>\n",
       "      <td>TV-MA</td>\n",
       "      <td>99 min</td>\n",
       "      <td>6.2/10</td>\n",
       "      <td>Movie</td>\n",
       "    </tr>\n",
       "  </tbody>\n",
       "</table>\n",
       "</div>"
      ],
      "text/plain": [
       "                                     ID    Título        Diretor  \\\n",
       "0  cc1b6ed9-cf9e-4057-8303-34577fb54477  (Un)Well  Não Informado   \n",
       "1  e2ef4e91-fb25-42ab-b485-be8e3b23dedb     Alive         Cho Il   \n",
       "\n",
       "                                           Gênero           País  Lançamento  \\\n",
       "0                                      Reality TV  United States      2020.0   \n",
       "1  Horror Movies, International Movies, Thrillers    South Korea      2020.0   \n",
       "\n",
       "  Classificação   Duração    IMDB     Tipo  \n",
       "0         TV-MA  1 Season  6.6/10  TV Show  \n",
       "1         TV-MA    99 min  6.2/10    Movie  "
      ]
     },
     "execution_count": 30,
     "metadata": {},
     "output_type": "execute_result"
    }
   ],
   "source": [
    "# Tratando a categoria País, colocando no lugar de null o valor \"Não Informado\"\n",
    "\n",
    "dataset[\"País\"].fillna(\"Não Informado\", inplace=True)\n",
    "dataset.head(2)"
   ]
  },
  {
   "cell_type": "code",
   "execution_count": 31,
   "id": "b79b82e8",
   "metadata": {},
   "outputs": [
    {
     "data": {
      "text/plain": [
       "País\n",
       "Argentina                                              40\n",
       "Argentina, Brazil, France, Poland, Germany, Denmark     1\n",
       "Argentina, Chile                                        1\n",
       "Argentina, France                                       1\n",
       "Argentina, Italy                                        2\n",
       "                                                       ..\n",
       "Uruguay, Guatemala                                      1\n",
       "Uruguay, Spain, Mexico                                  1\n",
       "Vietnam                                                 4\n",
       "West Germany                                            1\n",
       "Zimbabwe                                                1\n",
       "Length: 510, dtype: int64"
      ]
     },
     "execution_count": 31,
     "metadata": {},
     "output_type": "execute_result"
    }
   ],
   "source": [
    "agrupado3 = dataset.groupby(['País']).size()\n",
    "agrupado3"
   ]
  },
  {
   "cell_type": "code",
   "execution_count": null,
   "id": "e5bac8b6",
   "metadata": {},
   "outputs": [],
   "source": []
  },
  {
   "cell_type": "code",
   "execution_count": null,
   "id": "549c0f7c",
   "metadata": {},
   "outputs": [],
   "source": []
  },
  {
   "cell_type": "markdown",
   "id": "d8a0d9b6",
   "metadata": {},
   "source": [
    "## Categoria Lançamento"
   ]
  },
  {
   "cell_type": "code",
   "execution_count": 32,
   "id": "6bad40a5",
   "metadata": {},
   "outputs": [
    {
     "data": {
      "text/plain": [
       "count    5964.000000\n",
       "mean     2015.643863\n",
       "std         7.257391\n",
       "min      1925.000000\n",
       "25%      2015.000000\n",
       "50%      2018.000000\n",
       "75%      2019.000000\n",
       "max      2021.000000\n",
       "Name: Lançamento, dtype: float64"
      ]
     },
     "execution_count": 32,
     "metadata": {},
     "output_type": "execute_result"
    }
   ],
   "source": [
    "#explorar coluna de Data\n",
    "#Lançamento\n",
    "dataset['Lançamento'].describe()"
   ]
  },
  {
   "cell_type": "code",
   "execution_count": 33,
   "id": "47885fe7",
   "metadata": {},
   "outputs": [
    {
     "data": {
      "text/plain": [
       "3"
      ]
     },
     "execution_count": 33,
     "metadata": {},
     "output_type": "execute_result"
    }
   ],
   "source": [
    "dataset['Lançamento'].isnull().sum()"
   ]
  },
  {
   "cell_type": "code",
   "execution_count": 34,
   "id": "372b87fa",
   "metadata": {},
   "outputs": [
    {
     "data": {
      "text/plain": [
       "0   2020-01-01\n",
       "1   2020-01-01\n",
       "2   2019-01-01\n",
       "3   2020-01-01\n",
       "4   2020-01-01\n",
       "Name: Lançamento, dtype: datetime64[ns]"
      ]
     },
     "execution_count": 34,
     "metadata": {},
     "output_type": "execute_result"
    }
   ],
   "source": [
    "dataset['Lançamento'] = pd.to_datetime(dataset['Lançamento'], format='%Y') \n",
    "dataset['Lançamento'].head()"
   ]
  },
  {
   "cell_type": "code",
   "execution_count": 35,
   "id": "bd9f1a06",
   "metadata": {},
   "outputs": [
    {
     "data": {
      "text/plain": [
       "0"
      ]
     },
     "execution_count": 35,
     "metadata": {},
     "output_type": "execute_result"
    }
   ],
   "source": [
    "#Tratando a coluna lançamento e colocando a mediana no valores null\n",
    "dataset[\"Lançamento\"].fillna(dataset['Lançamento'].median(), inplace=True)\n",
    "dataset['Lançamento'].isnull().sum()"
   ]
  },
  {
   "cell_type": "code",
   "execution_count": null,
   "id": "36a42163",
   "metadata": {},
   "outputs": [
    {
     "name": "stderr",
     "output_type": "stream",
     "text": [
      "C:\\Users\\PC\\anaconda3\\lib\\site-packages\\seaborn\\distributions.py:2619: FutureWarning: `distplot` is a deprecated function and will be removed in a future version. Please adapt your code to use either `displot` (a figure-level function with similar flexibility) or `histplot` (an axes-level function for histograms).\n",
      "  warnings.warn(msg, FutureWarning)\n"
     ]
    },
    {
     "data": {
      "text/plain": [
       "Text(0.5, 1.0, 'Lançamento')"
      ]
     },
     "execution_count": 36,
     "metadata": {},
     "output_type": "execute_result"
    }
   ],
   "source": [
    "srn.distplot(dataset['Lançamento'], bins = 10, axlabel = 'Anos').set_title('Lançamento')"
   ]
  },
  {
   "cell_type": "code",
   "execution_count": null,
   "id": "b5ba2767",
   "metadata": {},
   "outputs": [],
   "source": [
    "# Visualização do histograma com 6 divisões (bins)\n",
    "plt.hist(dataset['Lançamento'], bins = 6)\n",
    "plt.title('Lançamento')\n",
    "plt.ylabel('Frequência')\n",
    "plt.xlabel('Anos')"
   ]
  },
  {
   "cell_type": "markdown",
   "id": "345d017f",
   "metadata": {},
   "source": [
    "## Categoria Classificação"
   ]
  },
  {
   "cell_type": "code",
   "execution_count": null,
   "id": "d31bdad4",
   "metadata": {},
   "outputs": [],
   "source": [
    "dataset['Classificação'].head()"
   ]
  },
  {
   "cell_type": "code",
   "execution_count": null,
   "id": "7dedfa7a",
   "metadata": {},
   "outputs": [],
   "source": [
    "dataset['Classificação'].unique()"
   ]
  },
  {
   "cell_type": "code",
   "execution_count": null,
   "id": "c325ff45",
   "metadata": {},
   "outputs": [],
   "source": [
    "dataset['Classificação'] = dataset['Classificação'].str.replace('TV-MA' or 'PG' or 'TV-Y7','Orientação dos Responsáveis')\n",
    "dataset['Classificação'] = dataset['Classificação'].str.replace('TV-14' or 'PG-13','Orientação dos Responsáveis-13')\n",
    "dataset['Classificação'] = dataset['Classificação'].str.replace('TV-G' or 'G','Todas as Idades')\n",
    "dataset['Classificação'] = dataset['Classificação'].str.replace('TV-PG' or 'R','Restrito')\n",
    "dataset['Classificação'] = dataset['Classificação'].str.replace('TV-Y','Conteúdo infantil')\n",
    "dataset['Classificação'] = dataset['Classificação'].str.replace('NC-17','Apenas adultos')\n",
    "dataset[\"Classificação\"].fillna(\"Não Informada\", inplace=True)\n",
    "dataset.head()\n"
   ]
  },
  {
   "cell_type": "code",
   "execution_count": null,
   "id": "306a56bf",
   "metadata": {},
   "outputs": [],
   "source": [
    "dataset['Classificação'].isnull().sum()"
   ]
  },
  {
   "cell_type": "markdown",
   "id": "bbaecf7b",
   "metadata": {},
   "source": [
    "## Categoria IMDB"
   ]
  },
  {
   "cell_type": "code",
   "execution_count": null,
   "id": "5bfd442f",
   "metadata": {},
   "outputs": [],
   "source": [
    "dataset[\"IMDB\"].describe()"
   ]
  },
  {
   "cell_type": "code",
   "execution_count": null,
   "id": "a82e27ae",
   "metadata": {},
   "outputs": [],
   "source": [
    "dataset[\"IMDB\"].unique()"
   ]
  },
  {
   "cell_type": "code",
   "execution_count": null,
   "id": "4ea56035",
   "metadata": {},
   "outputs": [],
   "source": [
    "dataset['IMDB'] = dataset['IMDB'].str.replace('/10','')\n",
    "dataset[\"IMDB\"].unique()"
   ]
  },
  {
   "cell_type": "code",
   "execution_count": null,
   "id": "dc7dc1ba",
   "metadata": {},
   "outputs": [],
   "source": [
    "dataset['IMDB'] = pd.to_numeric(dataset['IMDB'],errors = 'coerce')\n",
    "dataset.info()"
   ]
  },
  {
   "cell_type": "raw",
   "id": "5e0aa1fd",
   "metadata": {},
   "source": [
    "Retirando Filmes e Series que não tem nota IMDB"
   ]
  },
  {
   "cell_type": "code",
   "execution_count": null,
   "id": "0e328e46",
   "metadata": {},
   "outputs": [],
   "source": [
    "dataset['IMDB'].isnull().sum()"
   ]
  },
  {
   "cell_type": "code",
   "execution_count": null,
   "id": "24d05787",
   "metadata": {},
   "outputs": [],
   "source": [
    "# Excluindo linha que não tem nota\n",
    "dataset = dataset[dataset['IMDB'].notna()]\n",
    "dataset[\"IMDB\"].describe()"
   ]
  },
  {
   "cell_type": "code",
   "execution_count": null,
   "id": "bd19fb36",
   "metadata": {},
   "outputs": [],
   "source": [
    "dataset['IMDB'].isnull().sum()"
   ]
  },
  {
   "cell_type": "code",
   "execution_count": null,
   "id": "4969f2b5",
   "metadata": {},
   "outputs": [],
   "source": [
    "a = dataset['IMDB'].median()\n",
    "b = dataset['IMDB'].mean()\n",
    "print(\"A Mediana é {} e a Media é {}\".format(a,b))"
   ]
  },
  {
   "cell_type": "code",
   "execution_count": null,
   "id": "e5c225ca",
   "metadata": {},
   "outputs": [],
   "source": [
    "# Histograma com a duração das Filmes (Duração)\n",
    "dataset['IMDB'].plot(kind='hist')\n",
    "plt.title('')\n",
    "plt.ylabel('Frequência')\n",
    "plt.xlabel('Nota')"
   ]
  },
  {
   "cell_type": "code",
   "execution_count": null,
   "id": "5de7eca3",
   "metadata": {},
   "outputs": [],
   "source": [
    "#densidade e histograma\n",
    "srn.distplot(dataset['IMDB'], hist = True, kde = True,\n",
    "             bins = 6, color = 'blue',\n",
    "             hist_kws={'edgecolor': 'black'})"
   ]
  },
  {
   "cell_type": "markdown",
   "id": "a5eac69c",
   "metadata": {},
   "source": [
    "## Dividindo a tabela por Tipo e resetando o index - Filmes e Series"
   ]
  },
  {
   "cell_type": "code",
   "execution_count": null,
   "id": "9a66a1e1",
   "metadata": {},
   "outputs": [],
   "source": [
    "dataset[\"Tipo\"].unique()"
   ]
  },
  {
   "cell_type": "code",
   "execution_count": null,
   "id": "99284110",
   "metadata": {},
   "outputs": [],
   "source": [
    "#Dividindo a Tabela por Tipo\n",
    "series = dataset[dataset['Tipo'].str.contains('TV Show')]\n",
    "filmes = dataset[dataset['Tipo'].str.contains('Movie')]"
   ]
  },
  {
   "cell_type": "code",
   "execution_count": null,
   "id": "0feb6425",
   "metadata": {},
   "outputs": [],
   "source": [
    "#Reset no index das duas novas tabelas\n",
    "filmes = filmes.reset_index(drop=True)\n",
    "series = series.reset_index(drop=True)"
   ]
  },
  {
   "cell_type": "code",
   "execution_count": null,
   "id": "d607bf15",
   "metadata": {},
   "outputs": [],
   "source": [
    "filmes.head(2)"
   ]
  },
  {
   "cell_type": "code",
   "execution_count": null,
   "id": "083cebe5",
   "metadata": {},
   "outputs": [],
   "source": [
    "series.head(2)"
   ]
  },
  {
   "cell_type": "markdown",
   "id": "d0e79e61",
   "metadata": {},
   "source": [
    "## Categoria Duração - tabela filme"
   ]
  },
  {
   "cell_type": "code",
   "execution_count": null,
   "id": "f6cb9c5a",
   "metadata": {},
   "outputs": [],
   "source": [
    "filmes['Duração'].head()"
   ]
  },
  {
   "cell_type": "code",
   "execution_count": null,
   "id": "52cfc12a",
   "metadata": {},
   "outputs": [],
   "source": [
    "filmes['Duração'].isnull().sum()"
   ]
  },
  {
   "cell_type": "code",
   "execution_count": null,
   "id": "aa98a24c",
   "metadata": {},
   "outputs": [],
   "source": [
    "filmes['Duração'] = filmes['Duração'].str.replace('min','')"
   ]
  },
  {
   "cell_type": "code",
   "execution_count": null,
   "id": "bbfc7286",
   "metadata": {},
   "outputs": [],
   "source": [
    "filmes.info()"
   ]
  },
  {
   "cell_type": "code",
   "execution_count": null,
   "id": "577135c5",
   "metadata": {},
   "outputs": [],
   "source": [
    "filmes['Duração'] = pd.to_numeric(filmes['Duração'],errors = 'coerce')\n",
    "filmes.info()"
   ]
  },
  {
   "cell_type": "code",
   "execution_count": null,
   "id": "fc15103c",
   "metadata": {},
   "outputs": [],
   "source": [
    "a = filmes['Duração'].median()\n",
    "b = filmes['Duração'].mean()\n",
    "print(\"A Mediana é {} e a Media é {}\".format(a,b))"
   ]
  },
  {
   "cell_type": "code",
   "execution_count": null,
   "id": "0a82b82c",
   "metadata": {},
   "outputs": [],
   "source": [
    "filmes['Duração'].describe()"
   ]
  },
  {
   "cell_type": "code",
   "execution_count": null,
   "id": "85b1070d",
   "metadata": {},
   "outputs": [],
   "source": [
    "h = np.histogram(filmes[\"Duração\"])\n",
    "h"
   ]
  },
  {
   "cell_type": "code",
   "execution_count": null,
   "id": "1ee334e3",
   "metadata": {},
   "outputs": [],
   "source": [
    "# Histograma com a duração das Filmes (Duração)\n",
    "filmes['Duração'].plot(kind='hist')\n",
    "plt.title('')\n",
    "plt.ylabel('Frequência')\n",
    "plt.xlabel('Duração')"
   ]
  },
  {
   "cell_type": "code",
   "execution_count": null,
   "id": "320ff7e4",
   "metadata": {},
   "outputs": [],
   "source": [
    "srn.distplot(filmes['Duração'], bins = 10, axlabel = 'Anos').set_title('Duração')"
   ]
  },
  {
   "cell_type": "code",
   "execution_count": null,
   "id": "2465471a",
   "metadata": {},
   "outputs": [],
   "source": [
    "# Verificando como está distribuida as Durações com BOXPLOT\n",
    "srn.boxplot(filmes['Duração'])"
   ]
  },
  {
   "cell_type": "code",
   "execution_count": null,
   "id": "7703b1f6",
   "metadata": {},
   "outputs": [],
   "source": [
    "# Gráfico de dispersão utilizando os atributos Lançamento e Duração, agrupamento pelo Tipo\n",
    "srn.scatterplot(filmes['Lançamento'], filmes['Duração'], hue = filmes[\"Tipo\"])"
   ]
  },
  {
   "cell_type": "markdown",
   "id": "0785bc72",
   "metadata": {},
   "source": [
    "## Unindo novamente as tabelas"
   ]
  },
  {
   "cell_type": "code",
   "execution_count": null,
   "id": "a1d22616",
   "metadata": {},
   "outputs": [],
   "source": [
    "dataset = pd.concat([filmes, series])"
   ]
  },
  {
   "cell_type": "code",
   "execution_count": null,
   "id": "ede92535",
   "metadata": {},
   "outputs": [],
   "source": [
    "dataset"
   ]
  },
  {
   "cell_type": "code",
   "execution_count": null,
   "id": "d78297d0",
   "metadata": {},
   "outputs": [],
   "source": [
    "#Reset o index\n",
    "dataset = dataset.reset_index(drop=True)\n",
    "dataset"
   ]
  },
  {
   "cell_type": "code",
   "execution_count": null,
   "id": "06f8e7ef",
   "metadata": {},
   "outputs": [],
   "source": [
    "df.to_csv('your_name.csv', index = False)"
   ]
  }
 ],
 "metadata": {
  "kernelspec": {
   "display_name": "Python 3 (ipykernel)",
   "language": "python",
   "name": "python3"
  },
  "language_info": {
   "codemirror_mode": {
    "name": "ipython",
    "version": 3
   },
   "file_extension": ".py",
   "mimetype": "text/x-python",
   "name": "python",
   "nbconvert_exporter": "python",
   "pygments_lexer": "ipython3",
   "version": "3.9.7"
  }
 },
 "nbformat": 4,
 "nbformat_minor": 5
}
